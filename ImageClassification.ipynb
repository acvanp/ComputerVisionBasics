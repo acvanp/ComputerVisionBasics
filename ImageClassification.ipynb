{
 "cells": [
  {
   "cell_type": "code",
   "execution_count": 1,
   "id": "318d1c3e",
   "metadata": {
    "execution": {
     "iopub.execute_input": "2023-10-13T11:48:29.094012Z",
     "iopub.status.busy": "2023-10-13T11:48:29.093677Z",
     "iopub.status.idle": "2023-10-13T11:48:29.763175Z",
     "shell.execute_reply": "2023-10-13T11:48:29.762332Z"
    },
    "papermill": {
     "duration": 0.678177,
     "end_time": "2023-10-13T11:48:29.765228",
     "exception": false,
     "start_time": "2023-10-13T11:48:29.087051",
     "status": "completed"
    },
    "tags": []
   },
   "outputs": [],
   "source": [
    "# This Python 3 environment comes with many helpful analytics libraries installed\n",
    "# It is defined by the kaggle/python Docker image: https://github.com/kaggle/docker-python\n",
    "# For example, here's several helpful packages to load\n",
    "\n",
    "import numpy as np # linear algebra\n",
    "import pandas as pd # data processing, CSV file I/O (e.g. pd.read_csv)\n",
    "imgdim = 512#192#224\n",
    "# Input data files are available in the read-only \"../input/\" directory\n",
    "# For example, running this (by clicking run or pressing Shift+Enter) will list all files under the input directory\n",
    "\n",
    "#import os\n",
    "#os.environ[\"PYTORCH_CUDA_ALLOC_CONF\"] = \"max_split_size_mb:512\"\n",
    "# You can write up to 20GB to the current directory (/kaggle/working/) that gets preserved as output when you create a version using \"Save & Run All\" \n",
    "# You can also write temporary files to /kaggle/temp/, but they won't be saved outside of the current session"
   ]
  },
  {
   "cell_type": "code",
   "execution_count": 2,
   "id": "c4b1595a",
   "metadata": {
    "execution": {
     "iopub.execute_input": "2023-10-13T11:48:29.775996Z",
     "iopub.status.busy": "2023-10-13T11:48:29.775620Z",
     "iopub.status.idle": "2023-10-13T11:48:29.782465Z",
     "shell.execute_reply": "2023-10-13T11:48:29.781555Z"
    },
    "papermill": {
     "duration": 0.014065,
     "end_time": "2023-10-13T11:48:29.784142",
     "exception": false,
     "start_time": "2023-10-13T11:48:29.770077",
     "status": "completed"
    },
    "tags": []
   },
   "outputs": [],
   "source": [
    "CLASSES = ['pink primrose',    'hard-leaved pocket orchid', 'canterbury bells', 'sweet pea',     'wild geranium',     'tiger lily',           'moon orchid',              'bird of paradise', 'monkshood',        'globe thistle',         # 00 - 09\n",
    "           'snapdragon',       \"colt's foot\",               'king protea',      'spear thistle', 'yellow iris',       'globe-flower',         'purple coneflower',        'peruvian lily',    'balloon flower',   'giant white arum lily', # 10 - 19\n",
    "           'fire lily',        'pincushion flower',         'fritillary',       'red ginger',    'grape hyacinth',    'corn poppy',           'prince of wales feathers', 'stemless gentian', 'artichoke',        'sweet william',         # 20 - 29\n",
    "           'carnation',        'garden phlox',              'love in the mist', 'cosmos',        'alpine sea holly',  'ruby-lipped cattleya', 'cape flower',              'great masterwort', 'siam tulip',       'lenten rose',           # 30 - 39\n",
    "           'barberton daisy',  'daffodil',                  'sword lily',       'poinsettia',    'bolero deep blue',  'wallflower',           'marigold',                 'buttercup',        'daisy',            'common dandelion',      # 40 - 49\n",
    "           'petunia',          'wild pansy',                'primula',          'sunflower',     'lilac hibiscus',    'bishop of llandaff',   'gaura',                    'geranium',         'orange dahlia',    'pink-yellow dahlia',    # 50 - 59\n",
    "           'cautleya spicata', 'japanese anemone',          'black-eyed susan', 'silverbush',    'californian poppy', 'osteospermum',         'spring crocus',            'iris',             'windflower',       'tree poppy',            # 60 - 69\n",
    "           'gazania',          'azalea',                    'water lily',       'rose',          'thorn apple',       'morning glory',        'passion flower',           'lotus',            'toad lily',        'anthurium',             # 70 - 79\n",
    "           'frangipani',       'clematis',                  'hibiscus',         'columbine',     'desert-rose',       'tree mallow',          'magnolia',                 'cyclamen ',        'watercress',       'canna lily',            # 80 - 89\n",
    "           'hippeastrum ',     'bee balm',                  'pink quill',       'foxglove',      'bougainvillea',     'camellia',             'mallow',                   'mexican petunia',  'bromelia',         'blanket flower',        # 90 - 99\n",
    "           'trumpet creeper',  'blackberry lily',           'common tulip',     'wild rose']\n",
    "classes = CLASSES\n"
   ]
  },
  {
   "cell_type": "code",
   "execution_count": 3,
   "id": "732df616",
   "metadata": {
    "_cell_guid": "b1076dfc-b9ad-4769-8c92-a6c4dae69d19",
    "_uuid": "8f2839f25d086af736a60e9eeb907d3b93b6e0e5",
    "execution": {
     "iopub.execute_input": "2023-10-13T11:48:29.794363Z",
     "iopub.status.busy": "2023-10-13T11:48:29.793957Z",
     "iopub.status.idle": "2023-10-13T11:48:32.894739Z",
     "shell.execute_reply": "2023-10-13T11:48:32.893852Z"
    },
    "papermill": {
     "duration": 3.108057,
     "end_time": "2023-10-13T11:48:32.896810",
     "exception": false,
     "start_time": "2023-10-13T11:48:29.788753",
     "status": "completed"
    },
    "tags": []
   },
   "outputs": [],
   "source": [
    "import numpy as np # linear algebra\n",
    "import pandas as pd # data processing, CSV file I/O (e.g. pd.read_csv)\n",
    "\n",
    "import torch\n",
    "import torch.nn as nn\n",
    "import torch.nn.functional as F\n",
    "from torch.optim import lr_scheduler\n",
    "import torch.optim as optim\n",
    "\n",
    "from tqdm import tqdm\n",
    "\n",
    "# Input data files are available in the read-only \"../input/\" directory\n",
    "# For example, running this (by clicking run or pressing Shift+Enter) will list all files under the input directory\n",
    "\n",
    "import os\n"
   ]
  },
  {
   "cell_type": "code",
   "execution_count": 4,
   "id": "4ae1deb4",
   "metadata": {
    "execution": {
     "iopub.execute_input": "2023-10-13T11:48:32.908895Z",
     "iopub.status.busy": "2023-10-13T11:48:32.908495Z",
     "iopub.status.idle": "2023-10-13T11:48:32.912550Z",
     "shell.execute_reply": "2023-10-13T11:48:32.911572Z"
    },
    "papermill": {
     "duration": 0.011505,
     "end_time": "2023-10-13T11:48:32.914298",
     "exception": false,
     "start_time": "2023-10-13T11:48:32.902793",
     "status": "completed"
    },
    "tags": []
   },
   "outputs": [],
   "source": [
    "# !pip install timm\n",
    "#%pip install albumentations\n",
    "#%pip install seaborn"
   ]
  },
  {
   "cell_type": "code",
   "execution_count": 5,
   "id": "2ea1a1d5",
   "metadata": {
    "execution": {
     "iopub.execute_input": "2023-10-13T11:48:32.924574Z",
     "iopub.status.busy": "2023-10-13T11:48:32.924336Z",
     "iopub.status.idle": "2023-10-13T11:48:47.671047Z",
     "shell.execute_reply": "2023-10-13T11:48:47.670081Z"
    },
    "papermill": {
     "duration": 14.754402,
     "end_time": "2023-10-13T11:48:47.673205",
     "exception": false,
     "start_time": "2023-10-13T11:48:32.918803",
     "status": "completed"
    },
    "tags": []
   },
   "outputs": [
    {
     "name": "stderr",
     "output_type": "stream",
     "text": [
      "/opt/conda/lib/python3.10/site-packages/scipy/__init__.py:146: UserWarning: A NumPy version >=1.16.5 and <1.23.0 is required for this version of SciPy (detected version 1.23.5\n",
      "  warnings.warn(f\"A NumPy version >={np_minversion} and <{np_maxversion}\"\n"
     ]
    }
   ],
   "source": [
    "import pandas as pd\n",
    "from scipy import stats\n",
    "import numpy as np\n",
    "import glob\n",
    "import tensorflow as tf\n",
    "config = tf.compat.v1.ConfigProto()\n",
    "config.gpu_options.allow_growth = True\n",
    "session = tf.compat.v1.Session(config=config)\n",
    "# import timm\n",
    "import random\n",
    "import time\n",
    "import copy\n",
    "from operator import itemgetter\n",
    "\n",
    "from collections import OrderedDict, namedtuple\n",
    "import joblib\n",
    "\n",
    "import logging\n",
    "import sys\n",
    "\n",
    "import PIL\n",
    "import cv2\n",
    "import albumentations as A\n",
    "import io\n",
    "import IPython.display as display\n",
    "\n",
    "# import torch_xla\n",
    "# import torch_xla.core.xla_model as xm\n",
    "# import torch_xla.debug.metrics as met\n",
    "# import torch_xla.distributed.parallel_loader as pl\n",
    "# import torch_xla.distributed.xla_multiprocessing as xmp\n",
    "# import torch_xla.utils.utils as xu\n",
    "\n",
    "import torchvision\n",
    "# from torchvision import datasets, transforms\n",
    "from torch.utils.data import Dataset, DataLoader, ConcatDataset\n",
    "import torchvision.transforms as transforms\n",
    "from torchvision.utils import make_grid\n",
    "\n",
    "import matplotlib.pyplot as plt\n",
    "import seaborn as sns\n",
    "from sklearn.model_selection import train_test_split\n",
    "from sklearn import metrics, model_selection\n",
    "\n",
    "import warnings\n",
    "warnings.filterwarnings(\"ignore\");"
   ]
  },
  {
   "cell_type": "code",
   "execution_count": 6,
   "id": "7278a5ae",
   "metadata": {
    "execution": {
     "iopub.execute_input": "2023-10-13T11:48:47.684267Z",
     "iopub.status.busy": "2023-10-13T11:48:47.683827Z",
     "iopub.status.idle": "2023-10-13T11:48:47.724140Z",
     "shell.execute_reply": "2023-10-13T11:48:47.723069Z"
    },
    "papermill": {
     "duration": 0.047918,
     "end_time": "2023-10-13T11:48:47.726005",
     "exception": false,
     "start_time": "2023-10-13T11:48:47.678087",
     "status": "completed"
    },
    "tags": []
   },
   "outputs": [
    {
     "name": "stdout",
     "output_type": "stream",
     "text": [
      "28 4 16\n"
     ]
    }
   ],
   "source": [
    "datadir = r\"/kaggle/input/tpu-getting-started/tfrecords-jpeg-{0}x{0}//\".format(imgdim)\n",
    "train_files = glob.glob(datadir + '/train/*.tfrec')\n",
    "val_files = glob.glob(datadir + '/val/*.tfrec')\n",
    "test_files = glob.glob(datadir + '/test/*.tfrec')\n",
    "# augment train set with val set, rebalancing it\n",
    "train_files += val_files[4:]\n",
    "val_files = val_files[:4]\n",
    "print(len(train_files), len(val_files), len(test_files))"
   ]
  },
  {
   "cell_type": "code",
   "execution_count": 7,
   "id": "288e3a66",
   "metadata": {
    "execution": {
     "iopub.execute_input": "2023-10-13T11:48:47.737689Z",
     "iopub.status.busy": "2023-10-13T11:48:47.736833Z",
     "iopub.status.idle": "2023-10-13T11:48:47.742959Z",
     "shell.execute_reply": "2023-10-13T11:48:47.742138Z"
    },
    "papermill": {
     "duration": 0.013303,
     "end_time": "2023-10-13T11:48:47.744601",
     "exception": false,
     "start_time": "2023-10-13T11:48:47.731298",
     "status": "completed"
    },
    "tags": []
   },
   "outputs": [],
   "source": [
    "low_freq_targets = [1, 32, 19, 27, 61, 101, 92, 66, 85, 84, 100, 11, 31, 26, 15, 34, 2, 97, 99, 3, 98, 23, 60, 33, 6, 54, 63, 35, 20, 65, 58, 44, 37, 38]\n",
    "med_freq_targets = [57, 70, 22, 64, 8, 56, 25, 18, 21, 30, 16, 78, 40, 12, 81, 51, 9, 89, 90, 96, 39, 88, 59, 41, 69, 29, 7, 24, 5, 17, 42, 55, 36, 62]\n",
    "aug_targets = low_freq_targets + med_freq_targets"
   ]
  },
  {
   "cell_type": "code",
   "execution_count": 8,
   "id": "620a1e14",
   "metadata": {
    "execution": {
     "iopub.execute_input": "2023-10-13T11:48:47.755889Z",
     "iopub.status.busy": "2023-10-13T11:48:47.755106Z",
     "iopub.status.idle": "2023-10-13T11:48:47.763550Z",
     "shell.execute_reply": "2023-10-13T11:48:47.762806Z"
    },
    "papermill": {
     "duration": 0.015711,
     "end_time": "2023-10-13T11:48:47.765182",
     "exception": false,
     "start_time": "2023-10-13T11:48:47.749471",
     "status": "completed"
    },
    "tags": []
   },
   "outputs": [],
   "source": [
    "def parse_tfrec_data(files, test=False):\n",
    "    if not test: \n",
    "        feature_description = {\n",
    "            'class': tf.io.FixedLenFeature([], tf.int64),\n",
    "            'id': tf.io.FixedLenFeature([], tf.string),\n",
    "            'image': tf.io.FixedLenFeature([], tf.string),\n",
    "        }\n",
    "    else:\n",
    "        feature_description = {\n",
    "        'id': tf.io.FixedLenFeature([], tf.string),\n",
    "        'image': tf.io.FixedLenFeature([], tf.string),\n",
    "    }\n",
    "    parse_image_f = lambda x: tf.io.parse_single_example(x, feature_description)\n",
    "\n",
    "    ids = []\n",
    "    images = []\n",
    "    if not test:\n",
    "        cl = []\n",
    "\n",
    "    for i in tqdm(files):\n",
    "        image_dataset = tf.data.TFRecordDataset(i)\n",
    "        image_dataset = image_dataset.map(parse_image_f)\n",
    "\n",
    "        ids_ = [str(id_features['id'].numpy())[2:-1] for id_features in image_dataset] # [2:-1] is done to remove b' from 1st and 'from last in train id names\n",
    "        ids = ids + ids_\n",
    "        \n",
    "               \n",
    "        images_ = [image_features['image'].numpy() for image_features in image_dataset]\n",
    "        images = images + images_\n",
    "                \n",
    "\n",
    "        if not test:\n",
    "            cl_ = [int(class_features['class'].numpy()) for class_features in image_dataset]\n",
    "            cl = cl + cl_\n",
    "            #print(i, len(ids))\n",
    "            [ids.append(j) for j,k in zip(ids_, cl_) if k in aug_targets]# augment low freq targets\n",
    "            #print(i, len(ids))\n",
    "            [images.append(j) for j,k in zip(images_, cl_) if k in aug_targets]# augment low freq targets\n",
    "            [cl.append(j) for j in cl_ if j in aug_targets]# augment low freq targets\n",
    "            \n",
    "            \n",
    "    if test:\n",
    "        return ids, images\n",
    "    else:\n",
    "        return ids, cl, images"
   ]
  },
  {
   "cell_type": "code",
   "execution_count": 9,
   "id": "c524ba38",
   "metadata": {
    "execution": {
     "iopub.execute_input": "2023-10-13T11:48:47.776210Z",
     "iopub.status.busy": "2023-10-13T11:48:47.775434Z",
     "iopub.status.idle": "2023-10-13T11:49:08.538208Z",
     "shell.execute_reply": "2023-10-13T11:49:08.537259Z"
    },
    "papermill": {
     "duration": 20.769987,
     "end_time": "2023-10-13T11:49:08.540089",
     "exception": false,
     "start_time": "2023-10-13T11:48:47.770102",
     "status": "completed"
    },
    "tags": []
   },
   "outputs": [
    {
     "name": "stderr",
     "output_type": "stream",
     "text": [
      "100%|██████████| 16/16 [00:20<00:00,  1.30s/it]\n"
     ]
    }
   ],
   "source": [
    "#train_ids, train_cl, train_images = parse_tfrec_data(train_files)\n",
    "#val_ids, val_cl, val_images = parse_tfrec_data(val_files)\n",
    "test_ids, test_images = parse_tfrec_data(test_files, test=True)"
   ]
  },
  {
   "cell_type": "code",
   "execution_count": 10,
   "id": "eb6f0b30",
   "metadata": {
    "execution": {
     "iopub.execute_input": "2023-10-13T11:49:08.552513Z",
     "iopub.status.busy": "2023-10-13T11:49:08.552251Z",
     "iopub.status.idle": "2023-10-13T11:49:08.555897Z",
     "shell.execute_reply": "2023-10-13T11:49:08.555155Z"
    },
    "papermill": {
     "duration": 0.011679,
     "end_time": "2023-10-13T11:49:08.557531",
     "exception": false,
     "start_time": "2023-10-13T11:49:08.545852",
     "status": "completed"
    },
    "tags": []
   },
   "outputs": [],
   "source": [
    "#print(f'''# train images: {len(train_ids)}\n",
    "# val images: {len(val_ids)}\n",
    "# test images {len(test_ids)}''' )"
   ]
  },
  {
   "cell_type": "code",
   "execution_count": 11,
   "id": "6a661ccd",
   "metadata": {
    "execution": {
     "iopub.execute_input": "2023-10-13T11:49:08.569468Z",
     "iopub.status.busy": "2023-10-13T11:49:08.569225Z",
     "iopub.status.idle": "2023-10-13T11:49:08.572824Z",
     "shell.execute_reply": "2023-10-13T11:49:08.571850Z"
    },
    "papermill": {
     "duration": 0.011397,
     "end_time": "2023-10-13T11:49:08.574439",
     "exception": false,
     "start_time": "2023-10-13T11:49:08.563042",
     "status": "completed"
    },
    "tags": []
   },
   "outputs": [],
   "source": [
    "#print(train_ids[0])\n",
    "#print(train_cl[0])\n",
    "#sample_img = PIL.Image.open(io.BytesIO(train_images[0]))\n",
    "#sample_img"
   ]
  },
  {
   "cell_type": "code",
   "execution_count": 12,
   "id": "2507000e",
   "metadata": {
    "execution": {
     "iopub.execute_input": "2023-10-13T11:49:08.586706Z",
     "iopub.status.busy": "2023-10-13T11:49:08.586162Z",
     "iopub.status.idle": "2023-10-13T11:49:08.590609Z",
     "shell.execute_reply": "2023-10-13T11:49:08.589826Z"
    },
    "papermill": {
     "duration": 0.01244,
     "end_time": "2023-10-13T11:49:08.592239",
     "exception": false,
     "start_time": "2023-10-13T11:49:08.579799",
     "status": "completed"
    },
    "tags": []
   },
   "outputs": [],
   "source": [
    "def visualize(image):\n",
    "    plt.figure(figsize=(10, 10))\n",
    "    plt.axis('off')\n",
    "    plt.imshow(image)"
   ]
  },
  {
   "cell_type": "code",
   "execution_count": 13,
   "id": "47cb7c15",
   "metadata": {
    "execution": {
     "iopub.execute_input": "2023-10-13T11:49:08.604085Z",
     "iopub.status.busy": "2023-10-13T11:49:08.603602Z",
     "iopub.status.idle": "2023-10-13T11:49:08.609727Z",
     "shell.execute_reply": "2023-10-13T11:49:08.609048Z"
    },
    "papermill": {
     "duration": 0.013912,
     "end_time": "2023-10-13T11:49:08.611388",
     "exception": false,
     "start_time": "2023-10-13T11:49:08.597476",
     "status": "completed"
    },
    "tags": []
   },
   "outputs": [],
   "source": [
    "class FlowerDataset(Dataset):\n",
    "    \n",
    "    def __init__(self, ids, images, cl, transforms, test=False):\n",
    "        \n",
    "        self.ids = ids\n",
    "        self.images = images\n",
    "        if not test:\n",
    "            self.cl = cl\n",
    "        self.transforms = transforms\n",
    "        self.is_test = test\n",
    "    \n",
    "    def __len__(self):\n",
    "        return len(self.ids)\n",
    "        \n",
    "    def __getitem__(self, idx):\n",
    "        \n",
    "        img = self.images[idx]\n",
    "        img = PIL.Image.open(io.BytesIO(img))\n",
    "        img = np.array(img)\n",
    "        img = self.transforms(image=img)['image']\n",
    "        \n",
    "        if self.is_test:\n",
    "            return img, -1, self.ids[idx]\n",
    "        return img, int(self.cl[idx]), self.ids[idx]\n",
    "     "
   ]
  },
  {
   "cell_type": "code",
   "execution_count": 14,
   "id": "95dc75b0",
   "metadata": {
    "execution": {
     "iopub.execute_input": "2023-10-13T11:49:08.623563Z",
     "iopub.status.busy": "2023-10-13T11:49:08.622912Z",
     "iopub.status.idle": "2023-10-13T11:49:08.634282Z",
     "shell.execute_reply": "2023-10-13T11:49:08.633482Z"
    },
    "papermill": {
     "duration": 0.019282,
     "end_time": "2023-10-13T11:49:08.635946",
     "exception": false,
     "start_time": "2023-10-13T11:49:08.616664",
     "status": "completed"
    },
    "tags": []
   },
   "outputs": [],
   "source": [
    "from albumentations.pytorch import ToTensorV2\n",
    "\n",
    "train_transforms = A.Compose([A.HorizontalFlip(p=0.4),\n",
    "                           A.VerticalFlip(p=0.1),\n",
    "                           A.ShiftScaleRotate(p=0.1),\n",
    "                            A.ColorJitter(p=0.1),\n",
    "                           A.OneOf([A.RandomShadow(p=1.), A.RandomSunFlare(src_radius=20, p=1.),], p=0.1),\n",
    "                            A.RandomFog(p=0.1),\n",
    "                              A.Sharpen(alpha=(0.1, 0.3), lightness=(0.5, 1.0), always_apply=False, p=0.1),\n",
    "                              A.Blur(blur_limit=(2,5), p=0.1),\n",
    "                           A.GaussNoise(var_limit=120. , p=0.2),\n",
    "                           A.RandomBrightness(limit=0.1, p=0.1),\n",
    "                            A.Normalize(mean=[0.485, 0.456, 0.406], std=[0.229, 0.224, 0.225]),\n",
    "                           ToTensorV2()\n",
    "                              \n",
    "    ])\n",
    "\n",
    "val_transforms = A.Compose([A.Normalize(mean=[0.485, 0.456, 0.406], std=[0.229, 0.224, 0.225]), ToTensorV2() ])\n",
    "test_transforms = A.Compose([A.Normalize(mean=[0.485, 0.456, 0.406], std=[0.229, 0.224, 0.225]), ToTensorV2()])"
   ]
  },
  {
   "cell_type": "code",
   "execution_count": 15,
   "id": "23ad8528",
   "metadata": {
    "execution": {
     "iopub.execute_input": "2023-10-13T11:49:08.647783Z",
     "iopub.status.busy": "2023-10-13T11:49:08.647522Z",
     "iopub.status.idle": "2023-10-13T11:49:08.652051Z",
     "shell.execute_reply": "2023-10-13T11:49:08.651103Z"
    },
    "papermill": {
     "duration": 0.01238,
     "end_time": "2023-10-13T11:49:08.653736",
     "exception": false,
     "start_time": "2023-10-13T11:49:08.641356",
     "status": "completed"
    },
    "tags": []
   },
   "outputs": [],
   "source": [
    "#train_dataset = FlowerDataset(train_ids, train_images, train_cl, transforms=train_transforms)\n",
    "#val_dataset = FlowerDataset(val_ids, val_images, val_cl, transforms=val_transforms)\n",
    "test_dataset = FlowerDataset(test_ids, test_images, None, transforms=test_transforms, test=True)\n",
    "\n",
    "#train_loader = DataLoader(train_dataset, batch_size=16, num_workers=4, shuffle=True, pin_memory=True)\n",
    "#val_loader = DataLoader(val_dataset, batch_size=16, num_workers=4,  shuffle=True, pin_memory=True)\n",
    "test_loader = DataLoader(test_dataset, batch_size=16, num_workers=4,  shuffle=True, pin_memory=True)"
   ]
  },
  {
   "cell_type": "code",
   "execution_count": 16,
   "id": "d81ea73c",
   "metadata": {
    "execution": {
     "iopub.execute_input": "2023-10-13T11:49:08.666412Z",
     "iopub.status.busy": "2023-10-13T11:49:08.665833Z",
     "iopub.status.idle": "2023-10-13T11:49:08.671615Z",
     "shell.execute_reply": "2023-10-13T11:49:08.670843Z"
    },
    "papermill": {
     "duration": 0.014216,
     "end_time": "2023-10-13T11:49:08.673298",
     "exception": false,
     "start_time": "2023-10-13T11:49:08.659082",
     "status": "completed"
    },
    "tags": []
   },
   "outputs": [
    {
     "data": {
      "text/plain": [
       "'\\ntrain_iter = iter(train_loader)\\nimg = next(train_iter)\\nfor img2show in img[0][:10].permute(0, 2, 3, 1):\\n    visualize(img2show.numpy())\\n'"
      ]
     },
     "execution_count": 16,
     "metadata": {},
     "output_type": "execute_result"
    }
   ],
   "source": [
    "\"\"\"\n",
    "train_iter = iter(train_loader)\n",
    "img = next(train_iter)\n",
    "for img2show in img[0][:10].permute(0, 2, 3, 1):\n",
    "    visualize(img2show.numpy())\n",
    "\"\"\""
   ]
  },
  {
   "cell_type": "code",
   "execution_count": 17,
   "id": "074766c7",
   "metadata": {
    "execution": {
     "iopub.execute_input": "2023-10-13T11:49:08.685576Z",
     "iopub.status.busy": "2023-10-13T11:49:08.685080Z",
     "iopub.status.idle": "2023-10-13T11:49:08.696812Z",
     "shell.execute_reply": "2023-10-13T11:49:08.695998Z"
    },
    "papermill": {
     "duration": 0.019871,
     "end_time": "2023-10-13T11:49:08.698535",
     "exception": false,
     "start_time": "2023-10-13T11:49:08.678664",
     "status": "completed"
    },
    "tags": []
   },
   "outputs": [],
   "source": [
    "from torch.autograd import Variable\n",
    "\n",
    "# Function to save the model\n",
    "def saveModel():\n",
    "    path = \"./myFirstModel.pth\"\n",
    "    torch.save(model.state_dict(), path)\n",
    "\n",
    "# Function to test the model with the test dataset and print the accuracy for the test images\n",
    "def testAccuracy():\n",
    "    model.eval()\n",
    "    accuracy = 0.0\n",
    "    total = 0.0\n",
    "    #device = torch.device(\"cuda:0\" if torch.cuda.is_available() else \"cpu\")\n",
    "    with torch.no_grad():\n",
    "        for fn in val_files:\n",
    "            \n",
    "            val_ids, val_cl, val_images = parse_tfrec_data([fn])\n",
    "            val_dataset = FlowerDataset(val_ids, val_images, val_cl, transforms=val_transforms)\n",
    "            val_loader = DataLoader(val_dataset, batch_size=16, num_workers=4, shuffle=True, pin_memory=True)\n",
    "\n",
    "            for batch, labels, _ in val_loader:\n",
    "\n",
    "                batch = batch.cuda()\n",
    "                labels = labels.cuda()\n",
    "                out = model(batch)\n",
    "                pred_labels = out.argmax(dim=1)\n",
    "                accuracy += float((pred_labels == labels).sum())\n",
    "                total += labels.shape[0]\n",
    "\n",
    "    # compute the accuracy over all test images\n",
    "    accuracy = (100 * accuracy / total)\n",
    "    return accuracy\n",
    "\n",
    "\n",
    "# Training function. We simply have to loop over our data iterator and feed the inputs to the network and optimize.\n",
    "def train(num_epochs, lr_, model):\n",
    "    \n",
    "    best_accuracy = 0.0\n",
    "\n",
    "    # Define your execution device\n",
    "    #device = torch.device(\"cuda:0\" if torch.cuda.is_available() else \"cpu\")\n",
    "    #print(\"The model will be running on\", device, \"device\")\n",
    "    # Convert model parameters and buffers to CPU or Cuda\n",
    "    model = model.cuda()\n",
    "    model = model.train()\n",
    "    print('model on device')\n",
    "    #lr_ = 0.001\n",
    "    train_loss, train_acc = [], []\n",
    "    test_loss, test_acc = [], []\n",
    "\n",
    "    for epoch in range(num_epochs):  # loop over the dataset multiple times\n",
    "        running_loss = 0.\n",
    "        num_correct = 0.\n",
    "        num_total = 0.\n",
    "        \n",
    "        for fn in train_files:\n",
    "            \n",
    "            train_ids, train_cl, train_images = parse_tfrec_data([fn])\n",
    "            train_dataset = FlowerDataset(train_ids, train_images, train_cl, transforms=train_transforms)\n",
    "            train_loader = DataLoader(train_dataset, batch_size=16, num_workers=4, shuffle=True, pin_memory=True)\n",
    "\n",
    "            for batch, labels, _ in train_loader:\n",
    "\n",
    "                batch = batch.cuda()\n",
    "                labels = labels.cuda()\n",
    "\n",
    "                optimizer.zero_grad()\n",
    "\n",
    "                out = model(batch)\n",
    "                pred_labels = out.argmax(dim=1)\n",
    "                num_correct += float((pred_labels == labels).sum())\n",
    "                num_total += labels.shape[0]\n",
    "\n",
    "                loss = criterion(out, labels)\n",
    "                running_loss += loss\n",
    "                loss.backward()\n",
    "                optimizer.step()\n",
    "\n",
    "\n",
    "        epoch_loss = running_loss / num_total\n",
    "        epoch_acc = num_correct / num_total\n",
    "        \n",
    "        train_loss.append(epoch_loss.data.cpu())\n",
    "        train_acc.append(epoch_acc)\n",
    "        \n",
    "        #t_loss, t_acc = eval_model(model, criterion, test_loader, cuda=cuda)\n",
    "        \n",
    "        #test_loss.append(t_loss.data.cpu())\n",
    "        #test_acc.append(t_acc)\n",
    "                \n",
    "        # Compute and print the average accuracy fo this epoch when tested over all 10000 test images\n",
    "        accuracy = testAccuracy()\n",
    "        test_acc.append(accuracy)\n",
    "        print('For epoch', epoch+1,'the test accuracy over the whole test set is %d %%' % (accuracy))\n",
    "        #val_result = valClasses(classes=classes)\n",
    "        #print('For epoch', epoch+1,'the val accuracy over the whole test set is %d %%' % (val_result))\n",
    "        # we want to save the model if the accuracy is the best\n",
    "        if accuracy > best_accuracy:\n",
    "            saveModel()\n",
    "            best_accuracy = accuracy\n",
    "            \n",
    "        #for param in model.parameters():\n",
    "        #    param.requires_grad=True\n",
    "            \n",
    "        #scheduler.step()\n",
    "        if (epoch > 2): # if beyond 2 epochs and \n",
    "            if test_acc[-1] > test_acc[-2]: lr_ *= 0.5\n",
    "        else: lr_ = 0.001"
   ]
  },
  {
   "cell_type": "code",
   "execution_count": 18,
   "id": "48e3a762",
   "metadata": {
    "execution": {
     "iopub.execute_input": "2023-10-13T11:49:08.710361Z",
     "iopub.status.busy": "2023-10-13T11:49:08.710129Z",
     "iopub.status.idle": "2023-10-13T11:49:08.719588Z",
     "shell.execute_reply": "2023-10-13T11:49:08.718630Z"
    },
    "papermill": {
     "duration": 0.017282,
     "end_time": "2023-10-13T11:49:08.721273",
     "exception": false,
     "start_time": "2023-10-13T11:49:08.703991",
     "status": "completed"
    },
    "tags": []
   },
   "outputs": [],
   "source": [
    "import torch\n",
    "import torchvision\n",
    "import torchvision.transforms as transforms\n",
    "import tensorflow as tf\n",
    "import tensorflow as tf\n",
    "import matplotlib.pyplot as plt\n",
    "config = tf.compat.v1.ConfigProto()\n",
    "config.gpu_options.allow_growth = True\n",
    "session = tf.compat.v1.Session(config=config)\n",
    "#tf.compat.v1.per_process_gpu_memory_fraction = 0.001"
   ]
  },
  {
   "cell_type": "code",
   "execution_count": 19,
   "id": "e76736e1",
   "metadata": {
    "execution": {
     "iopub.execute_input": "2023-10-13T11:49:08.733447Z",
     "iopub.status.busy": "2023-10-13T11:49:08.732947Z",
     "iopub.status.idle": "2023-10-13T11:49:08.739631Z",
     "shell.execute_reply": "2023-10-13T11:49:08.738853Z"
    },
    "papermill": {
     "duration": 0.014682,
     "end_time": "2023-10-13T11:49:08.741428",
     "exception": false,
     "start_time": "2023-10-13T11:49:08.726746",
     "status": "completed"
    },
    "tags": []
   },
   "outputs": [],
   "source": [
    "# Function to test what classes performed well\n",
    "def testClasses(classes):\n",
    "    number_of_labels = len(classes)\n",
    "    class_correct = list(0. for i in range(number_of_labels))\n",
    "    class_total = list(0. for i in range(number_of_labels))\n",
    "    # device = torch.device(\"cuda\" if torch.cuda.is_available() else \"cpu\")\n",
    "    \n",
    "    with torch.no_grad():\n",
    "\n",
    "        for batch, labels, _ in val_loader:\n",
    "\n",
    "            batch = batch.cuda()\n",
    "            labels = labels.cuda()\n",
    "            out = model(batch)\n",
    "            pred_labels = out.argmax(dim=1)\n",
    "            c = (pred_labels == labels)\n",
    "            \n",
    "            for i in range(batch_size):\n",
    "                try:\n",
    "                    label = labels[i]\n",
    "                    class_correct[label] += c[i].item()\n",
    "                    class_total[label] += 1\n",
    "                except: pass\n",
    "    for i in range(number_of_labels):\n",
    "        print('Accuracy of %5s : %2d %%' % (\n",
    "            classes[i], 100 * class_correct[i] / class_total[i]))"
   ]
  },
  {
   "cell_type": "code",
   "execution_count": 20,
   "id": "f9fcc4f8",
   "metadata": {
    "execution": {
     "iopub.execute_input": "2023-10-13T11:49:08.756940Z",
     "iopub.status.busy": "2023-10-13T11:49:08.756606Z",
     "iopub.status.idle": "2023-10-13T11:49:08.760553Z",
     "shell.execute_reply": "2023-10-13T11:49:08.759674Z"
    },
    "papermill": {
     "duration": 0.015371,
     "end_time": "2023-10-13T11:49:08.762234",
     "exception": false,
     "start_time": "2023-10-13T11:49:08.746863",
     "status": "completed"
    },
    "tags": []
   },
   "outputs": [],
   "source": [
    "#comparison = pd.read_csv('submission (4).csv')"
   ]
  },
  {
   "cell_type": "code",
   "execution_count": 21,
   "id": "17c35d89",
   "metadata": {
    "execution": {
     "iopub.execute_input": "2023-10-13T11:49:08.774122Z",
     "iopub.status.busy": "2023-10-13T11:49:08.773897Z",
     "iopub.status.idle": "2023-10-13T11:49:09.770962Z",
     "shell.execute_reply": "2023-10-13T11:49:09.769997Z"
    },
    "papermill": {
     "duration": 1.005246,
     "end_time": "2023-10-13T11:49:09.772807",
     "exception": false,
     "start_time": "2023-10-13T11:49:08.767561",
     "status": "completed"
    },
    "tags": []
   },
   "outputs": [
    {
     "name": "stderr",
     "output_type": "stream",
     "text": [
      "Downloading: \"https://download.pytorch.org/models/efficientnet_b4_rwightman-7eb33cd5.pth\" to /root/.cache/torch/hub/checkpoints/efficientnet_b4_rwightman-7eb33cd5.pth\n",
      "100%|██████████| 74.5M/74.5M [00:00<00:00, 191MB/s]\n"
     ]
    },
    {
     "name": "stdout",
     "output_type": "stream",
     "text": [
      "features.7.0.block.0.0.weight\n",
      "features.7.0.block.0.1.weight\n",
      "features.7.0.block.0.1.bias\n",
      "features.7.0.block.1.0.weight\n",
      "features.7.0.block.1.1.weight\n",
      "features.7.0.block.1.1.bias\n",
      "features.7.0.block.2.fc1.weight\n",
      "features.7.0.block.2.fc1.bias\n",
      "features.7.0.block.2.fc2.weight\n",
      "features.7.0.block.2.fc2.bias\n",
      "features.7.0.block.3.0.weight\n",
      "features.7.0.block.3.1.weight\n",
      "features.7.0.block.3.1.bias\n",
      "features.7.1.block.0.0.weight\n",
      "features.7.1.block.0.1.weight\n",
      "features.7.1.block.0.1.bias\n",
      "features.7.1.block.1.0.weight\n",
      "features.7.1.block.1.1.weight\n",
      "features.7.1.block.1.1.bias\n",
      "features.7.1.block.2.fc1.weight\n",
      "features.7.1.block.2.fc1.bias\n",
      "features.7.1.block.2.fc2.weight\n",
      "features.7.1.block.2.fc2.bias\n",
      "features.7.1.block.3.0.weight\n",
      "features.7.1.block.3.1.weight\n",
      "features.7.1.block.3.1.bias\n",
      "features.8.0.weight\n",
      "features.8.1.weight\n",
      "features.8.1.bias\n",
      "classifier.1.weight\n",
      "classifier.1.bias\n"
     ]
    }
   ],
   "source": [
    "import torch.nn as nn\n",
    "import torchvision\n",
    "import torch.nn.functional as F\n",
    "# Instantiate a neural network model \n",
    "model = torchvision.models.efficientnet_b4(pretrained=True)\n",
    "for (n, p), param in zip(model.named_parameters(), model.parameters()):\n",
    "    if any([n.startswith(i) for i in ['features.7', 'features.8', 'classifier']]):\n",
    "        param.requires_grad=True\n",
    "        print(n)\n",
    "    else: param.requires_grad=False\n",
    "    \n",
    "model.fc = nn.Linear(2048, 104)\n"
   ]
  },
  {
   "cell_type": "code",
   "execution_count": 22,
   "id": "0c5edcb5",
   "metadata": {
    "execution": {
     "iopub.execute_input": "2023-10-13T11:49:09.786024Z",
     "iopub.status.busy": "2023-10-13T11:49:09.785764Z",
     "iopub.status.idle": "2023-10-13T14:16:46.538573Z",
     "shell.execute_reply": "2023-10-13T14:16:46.536743Z"
    },
    "papermill": {
     "duration": 8856.762542,
     "end_time": "2023-10-13T14:16:46.541535",
     "exception": false,
     "start_time": "2023-10-13T11:49:09.778993",
     "status": "completed"
    },
    "tags": []
   },
   "outputs": [
    {
     "name": "stdout",
     "output_type": "stream",
     "text": [
      "model on device\n"
     ]
    },
    {
     "name": "stderr",
     "output_type": "stream",
     "text": [
      "100%|██████████| 1/1 [00:01<00:00,  1.77s/it]\n",
      "100%|██████████| 1/1 [00:02<00:00,  2.12s/it]\n",
      "100%|██████████| 1/1 [00:01<00:00,  1.68s/it]\n",
      "100%|██████████| 1/1 [00:01<00:00,  1.80s/it]\n",
      "100%|██████████| 1/1 [00:01<00:00,  1.79s/it]\n",
      "100%|██████████| 1/1 [00:01<00:00,  1.77s/it]\n",
      "100%|██████████| 1/1 [00:01<00:00,  1.93s/it]\n",
      "100%|██████████| 1/1 [00:01<00:00,  1.85s/it]\n",
      "100%|██████████| 1/1 [00:01<00:00,  1.70s/it]\n",
      "100%|██████████| 1/1 [00:01<00:00,  1.85s/it]\n",
      "100%|██████████| 1/1 [00:01<00:00,  1.85s/it]\n",
      "100%|██████████| 1/1 [00:01<00:00,  1.76s/it]\n",
      "100%|██████████| 1/1 [00:01<00:00,  1.94s/it]\n",
      "100%|██████████| 1/1 [00:01<00:00,  1.80s/it]\n",
      "100%|██████████| 1/1 [00:01<00:00,  1.87s/it]\n",
      "100%|██████████| 1/1 [00:01<00:00,  1.76s/it]\n",
      "100%|██████████| 1/1 [00:00<00:00,  1.03it/s]\n",
      "100%|██████████| 1/1 [00:00<00:00,  1.49it/s]\n",
      "100%|██████████| 1/1 [00:00<00:00,  1.02it/s]\n",
      "100%|██████████| 1/1 [00:00<00:00,  1.03it/s]\n",
      "100%|██████████| 1/1 [00:00<00:00,  1.09it/s]\n",
      "100%|██████████| 1/1 [00:00<00:00,  1.04it/s]\n",
      "100%|██████████| 1/1 [00:00<00:00,  1.03it/s]\n",
      "100%|██████████| 1/1 [00:00<00:00,  1.03it/s]\n",
      "100%|██████████| 1/1 [00:00<00:00,  1.02it/s]\n",
      "100%|██████████| 1/1 [00:00<00:00,  1.26it/s]\n",
      "100%|██████████| 1/1 [00:00<00:00,  1.59it/s]\n",
      "100%|██████████| 1/1 [00:00<00:00,  1.60it/s]\n",
      "100%|██████████| 1/1 [00:00<00:00,  1.04it/s]\n",
      "100%|██████████| 1/1 [00:00<00:00,  1.50it/s]\n",
      "100%|██████████| 1/1 [00:00<00:00,  1.03it/s]\n",
      "100%|██████████| 1/1 [00:00<00:00,  1.03it/s]\n"
     ]
    },
    {
     "name": "stdout",
     "output_type": "stream",
     "text": [
      "For epoch 1 the test accuracy over the whole test set is 87 %\n"
     ]
    },
    {
     "name": "stderr",
     "output_type": "stream",
     "text": [
      "100%|██████████| 1/1 [00:00<00:00,  1.02it/s]\n",
      "100%|██████████| 1/1 [00:00<00:00,  1.03it/s]\n",
      "100%|██████████| 1/1 [00:00<00:00,  1.21it/s]\n",
      "100%|██████████| 1/1 [00:01<00:00,  1.66s/it]\n",
      "100%|██████████| 1/1 [00:00<00:00,  1.06it/s]\n",
      "100%|██████████| 1/1 [00:00<00:00,  1.13it/s]\n",
      "100%|██████████| 1/1 [00:00<00:00,  1.04it/s]\n",
      "100%|██████████| 1/1 [00:00<00:00,  1.04it/s]\n",
      "100%|██████████| 1/1 [00:00<00:00,  1.21it/s]\n",
      "100%|██████████| 1/1 [00:00<00:00,  1.12it/s]\n",
      "100%|██████████| 1/1 [00:00<00:00,  1.24it/s]\n",
      "100%|██████████| 1/1 [00:00<00:00,  1.02it/s]\n",
      "100%|██████████| 1/1 [00:00<00:00,  1.03it/s]\n",
      "100%|██████████| 1/1 [00:00<00:00,  1.02it/s]\n",
      "100%|██████████| 1/1 [00:00<00:00,  1.04it/s]\n",
      "100%|██████████| 1/1 [00:00<00:00,  1.09it/s]\n",
      "100%|██████████| 1/1 [00:00<00:00,  2.03it/s]\n",
      "100%|██████████| 1/1 [00:00<00:00,  2.29it/s]\n",
      "100%|██████████| 1/1 [00:00<00:00,  2.24it/s]\n",
      "100%|██████████| 1/1 [00:00<00:00,  2.30it/s]\n",
      "100%|██████████| 1/1 [00:00<00:00,  2.03it/s]\n",
      "100%|██████████| 1/1 [00:00<00:00,  2.29it/s]\n",
      "100%|██████████| 1/1 [00:00<00:00,  2.03it/s]\n",
      "100%|██████████| 1/1 [00:00<00:00,  2.24it/s]\n",
      "100%|██████████| 1/1 [00:00<00:00,  2.03it/s]\n",
      "100%|██████████| 1/1 [00:00<00:00,  2.03it/s]\n",
      "100%|██████████| 1/1 [00:00<00:00,  2.03it/s]\n",
      "100%|██████████| 1/1 [00:00<00:00,  2.30it/s]\n",
      "100%|██████████| 1/1 [00:00<00:00,  1.93it/s]\n",
      "100%|██████████| 1/1 [00:00<00:00,  1.97it/s]\n",
      "100%|██████████| 1/1 [00:00<00:00,  2.30it/s]\n",
      "100%|██████████| 1/1 [00:00<00:00,  1.98it/s]\n"
     ]
    },
    {
     "name": "stdout",
     "output_type": "stream",
     "text": [
      "For epoch 2 the test accuracy over the whole test set is 86 %\n"
     ]
    },
    {
     "name": "stderr",
     "output_type": "stream",
     "text": [
      "100%|██████████| 1/1 [00:00<00:00,  1.04it/s]\n",
      "100%|██████████| 1/1 [00:00<00:00,  1.01it/s]\n",
      "100%|██████████| 1/1 [00:00<00:00,  1.17it/s]\n",
      "100%|██████████| 1/1 [00:00<00:00,  1.09it/s]\n",
      "100%|██████████| 1/1 [00:00<00:00,  1.02it/s]\n",
      "100%|██████████| 1/1 [00:00<00:00,  1.10it/s]\n",
      "100%|██████████| 1/1 [00:00<00:00,  1.09it/s]\n",
      "100%|██████████| 1/1 [00:00<00:00,  1.05it/s]\n",
      "100%|██████████| 1/1 [00:00<00:00,  1.03it/s]\n",
      "100%|██████████| 1/1 [00:00<00:00,  1.11it/s]\n",
      "100%|██████████| 1/1 [00:00<00:00,  1.04it/s]\n",
      "100%|██████████| 1/1 [00:00<00:00,  1.10it/s]\n",
      "100%|██████████| 1/1 [00:00<00:00,  1.03it/s]\n",
      "100%|██████████| 1/1 [00:00<00:00,  1.01it/s]\n",
      "100%|██████████| 1/1 [00:00<00:00,  1.04it/s]\n",
      "100%|██████████| 1/1 [00:00<00:00,  1.03it/s]\n",
      "100%|██████████| 1/1 [00:00<00:00,  2.26it/s]\n",
      "100%|██████████| 1/1 [00:00<00:00,  2.02it/s]\n",
      "100%|██████████| 1/1 [00:00<00:00,  2.22it/s]\n",
      "100%|██████████| 1/1 [00:00<00:00,  2.04it/s]\n",
      "100%|██████████| 1/1 [00:00<00:00,  2.28it/s]\n",
      "100%|██████████| 1/1 [00:00<00:00,  2.27it/s]\n",
      "100%|██████████| 1/1 [00:00<00:00,  2.31it/s]\n",
      "100%|██████████| 1/1 [00:00<00:00,  1.99it/s]\n",
      "100%|██████████| 1/1 [00:00<00:00,  2.04it/s]\n",
      "100%|██████████| 1/1 [00:00<00:00,  2.03it/s]\n",
      "100%|██████████| 1/1 [00:00<00:00,  2.29it/s]\n",
      "100%|██████████| 1/1 [00:00<00:00,  2.30it/s]\n",
      "100%|██████████| 1/1 [00:00<00:00,  1.98it/s]\n",
      "100%|██████████| 1/1 [00:00<00:00,  2.27it/s]\n",
      "100%|██████████| 1/1 [00:00<00:00,  2.02it/s]\n",
      "100%|██████████| 1/1 [00:00<00:00,  2.02it/s]\n"
     ]
    },
    {
     "name": "stdout",
     "output_type": "stream",
     "text": [
      "For epoch 3 the test accuracy over the whole test set is 90 %\n"
     ]
    },
    {
     "name": "stderr",
     "output_type": "stream",
     "text": [
      "100%|██████████| 1/1 [00:00<00:00,  1.05it/s]\n",
      "100%|██████████| 1/1 [00:00<00:00,  1.08it/s]\n",
      "100%|██████████| 1/1 [00:00<00:00,  1.03it/s]\n",
      "100%|██████████| 1/1 [00:00<00:00,  1.04it/s]\n",
      "100%|██████████| 1/1 [00:00<00:00,  1.10it/s]\n",
      "100%|██████████| 1/1 [00:00<00:00,  1.12it/s]\n",
      "100%|██████████| 1/1 [00:00<00:00,  1.10it/s]\n",
      "100%|██████████| 1/1 [00:00<00:00,  1.10it/s]\n",
      "100%|██████████| 1/1 [00:00<00:00,  1.06it/s]\n",
      "100%|██████████| 1/1 [00:00<00:00,  1.04it/s]\n",
      "100%|██████████| 1/1 [00:00<00:00,  1.12it/s]\n",
      "100%|██████████| 1/1 [00:00<00:00,  1.18it/s]\n",
      "100%|██████████| 1/1 [00:00<00:00,  1.03it/s]\n",
      "100%|██████████| 1/1 [00:00<00:00,  1.03it/s]\n",
      "100%|██████████| 1/1 [00:00<00:00,  1.22it/s]\n",
      "100%|██████████| 1/1 [00:01<00:00,  1.01s/it]\n",
      "100%|██████████| 1/1 [00:00<00:00,  2.30it/s]\n",
      "100%|██████████| 1/1 [00:00<00:00,  2.30it/s]\n",
      "100%|██████████| 1/1 [00:00<00:00,  2.26it/s]\n",
      "100%|██████████| 1/1 [00:00<00:00,  2.04it/s]\n",
      "100%|██████████| 1/1 [00:00<00:00,  2.31it/s]\n",
      "100%|██████████| 1/1 [00:00<00:00,  2.05it/s]\n",
      "100%|██████████| 1/1 [00:00<00:00,  1.89it/s]\n",
      "100%|██████████| 1/1 [00:00<00:00,  2.24it/s]\n",
      "100%|██████████| 1/1 [00:00<00:00,  2.04it/s]\n",
      "100%|██████████| 1/1 [00:00<00:00,  2.33it/s]\n",
      "100%|██████████| 1/1 [00:00<00:00,  2.04it/s]\n",
      "100%|██████████| 1/1 [00:00<00:00,  2.04it/s]\n",
      "100%|██████████| 1/1 [00:00<00:00,  2.48it/s]\n",
      "100%|██████████| 1/1 [00:00<00:00,  1.96it/s]\n",
      "100%|██████████| 1/1 [00:00<00:00,  1.97it/s]\n",
      "100%|██████████| 1/1 [00:00<00:00,  2.22it/s]\n"
     ]
    },
    {
     "name": "stdout",
     "output_type": "stream",
     "text": [
      "For epoch 4 the test accuracy over the whole test set is 89 %\n"
     ]
    },
    {
     "name": "stderr",
     "output_type": "stream",
     "text": [
      "100%|██████████| 1/1 [00:00<00:00,  1.03it/s]\n",
      "100%|██████████| 1/1 [00:00<00:00,  1.03it/s]\n",
      "100%|██████████| 1/1 [00:00<00:00,  1.15it/s]\n",
      "100%|██████████| 1/1 [00:00<00:00,  1.03it/s]\n",
      "100%|██████████| 1/1 [00:00<00:00,  1.11it/s]\n",
      "100%|██████████| 1/1 [00:01<00:00,  1.16s/it]\n",
      "100%|██████████| 1/1 [00:00<00:00,  1.12it/s]\n",
      "100%|██████████| 1/1 [00:00<00:00,  1.03it/s]\n",
      "100%|██████████| 1/1 [00:00<00:00,  1.14it/s]\n",
      "100%|██████████| 1/1 [00:00<00:00,  1.09it/s]\n",
      "100%|██████████| 1/1 [00:00<00:00,  1.03it/s]\n",
      "100%|██████████| 1/1 [00:00<00:00,  1.11it/s]\n",
      "100%|██████████| 1/1 [00:00<00:00,  1.03it/s]\n",
      "100%|██████████| 1/1 [00:00<00:00,  1.01it/s]\n",
      "100%|██████████| 1/1 [00:00<00:00,  1.23it/s]\n",
      "100%|██████████| 1/1 [00:00<00:00,  1.22it/s]\n",
      "100%|██████████| 1/1 [00:00<00:00,  2.03it/s]\n",
      "100%|██████████| 1/1 [00:00<00:00,  2.04it/s]\n",
      "100%|██████████| 1/1 [00:00<00:00,  2.64it/s]\n",
      "100%|██████████| 1/1 [00:00<00:00,  2.05it/s]\n",
      "100%|██████████| 1/1 [00:00<00:00,  2.31it/s]\n",
      "100%|██████████| 1/1 [00:00<00:00,  2.06it/s]\n",
      "100%|██████████| 1/1 [00:00<00:00,  2.05it/s]\n",
      "100%|██████████| 1/1 [00:00<00:00,  2.64it/s]\n",
      "100%|██████████| 1/1 [00:00<00:00,  2.04it/s]\n",
      "100%|██████████| 1/1 [00:00<00:00,  2.32it/s]\n",
      "100%|██████████| 1/1 [00:00<00:00,  2.01it/s]\n",
      "100%|██████████| 1/1 [00:00<00:00,  2.05it/s]\n",
      "100%|██████████| 1/1 [00:00<00:00,  2.26it/s]\n",
      "100%|██████████| 1/1 [00:00<00:00,  2.00it/s]\n",
      "100%|██████████| 1/1 [00:00<00:00,  2.01it/s]\n",
      "100%|██████████| 1/1 [00:00<00:00,  2.02it/s]\n"
     ]
    },
    {
     "name": "stdout",
     "output_type": "stream",
     "text": [
      "For epoch 5 the test accuracy over the whole test set is 89 %\n"
     ]
    },
    {
     "name": "stderr",
     "output_type": "stream",
     "text": [
      "100%|██████████| 1/1 [00:00<00:00,  1.03it/s]\n",
      "100%|██████████| 1/1 [00:00<00:00,  1.03it/s]\n",
      "100%|██████████| 1/1 [00:01<00:00,  1.62s/it]\n",
      "100%|██████████| 1/1 [00:00<00:00,  1.11it/s]\n",
      "100%|██████████| 1/1 [00:00<00:00,  1.07it/s]\n",
      "100%|██████████| 1/1 [00:01<00:00,  1.49s/it]\n",
      "100%|██████████| 1/1 [00:00<00:00,  1.13it/s]\n",
      "100%|██████████| 1/1 [00:00<00:00,  1.03it/s]\n",
      "100%|██████████| 1/1 [00:00<00:00,  1.03it/s]\n",
      "100%|██████████| 1/1 [00:00<00:00,  1.11it/s]\n",
      "100%|██████████| 1/1 [00:00<00:00,  1.11it/s]\n",
      "100%|██████████| 1/1 [00:00<00:00,  1.01it/s]\n",
      "100%|██████████| 1/1 [00:00<00:00,  1.12it/s]\n",
      "100%|██████████| 1/1 [00:00<00:00,  1.23it/s]\n",
      "100%|██████████| 1/1 [00:00<00:00,  1.03it/s]\n",
      "100%|██████████| 1/1 [00:00<00:00,  1.05it/s]\n",
      "100%|██████████| 1/1 [00:00<00:00,  2.31it/s]\n",
      "100%|██████████| 1/1 [00:00<00:00,  2.05it/s]\n",
      "100%|██████████| 1/1 [00:00<00:00,  2.61it/s]\n",
      "100%|██████████| 1/1 [00:00<00:00,  2.30it/s]\n",
      "100%|██████████| 1/1 [00:00<00:00,  1.50it/s]\n",
      "100%|██████████| 1/1 [00:00<00:00,  2.05it/s]\n",
      "100%|██████████| 1/1 [00:00<00:00,  2.05it/s]\n",
      "100%|██████████| 1/1 [00:00<00:00,  1.97it/s]\n",
      "100%|██████████| 1/1 [00:00<00:00,  2.05it/s]\n",
      "100%|██████████| 1/1 [00:00<00:00,  2.06it/s]\n",
      "100%|██████████| 1/1 [00:00<00:00,  2.05it/s]\n",
      "100%|██████████| 1/1 [00:00<00:00,  2.05it/s]\n",
      "100%|██████████| 1/1 [00:00<00:00,  2.13it/s]\n",
      "100%|██████████| 1/1 [00:00<00:00,  1.97it/s]\n",
      "100%|██████████| 1/1 [00:00<00:00,  1.97it/s]\n",
      "100%|██████████| 1/1 [00:00<00:00,  2.20it/s]\n"
     ]
    },
    {
     "name": "stdout",
     "output_type": "stream",
     "text": [
      "For epoch 6 the test accuracy over the whole test set is 90 %\n",
      "model on device\n"
     ]
    },
    {
     "name": "stderr",
     "output_type": "stream",
     "text": [
      "100%|██████████| 1/1 [00:00<00:00,  1.10it/s]\n",
      "100%|██████████| 1/1 [00:01<00:00,  1.01s/it]\n",
      "100%|██████████| 1/1 [00:00<00:00,  1.03it/s]\n",
      "100%|██████████| 1/1 [00:00<00:00,  1.04it/s]\n",
      "100%|██████████| 1/1 [00:00<00:00,  1.03it/s]\n",
      "100%|██████████| 1/1 [00:00<00:00,  1.19it/s]\n",
      "100%|██████████| 1/1 [00:00<00:00,  1.05it/s]\n",
      "100%|██████████| 1/1 [00:01<00:00,  1.65s/it]\n",
      "100%|██████████| 1/1 [00:00<00:00,  1.13it/s]\n",
      "100%|██████████| 1/1 [00:00<00:00,  1.17it/s]\n",
      "100%|██████████| 1/1 [00:00<00:00,  1.11it/s]\n",
      "100%|██████████| 1/1 [00:00<00:00,  1.10it/s]\n",
      "100%|██████████| 1/1 [00:00<00:00,  1.10it/s]\n",
      "100%|██████████| 1/1 [00:00<00:00,  1.14it/s]\n",
      "100%|██████████| 1/1 [00:00<00:00,  1.11it/s]\n",
      "100%|██████████| 1/1 [00:00<00:00,  1.11it/s]\n",
      "100%|██████████| 1/1 [00:00<00:00,  2.03it/s]\n",
      "100%|██████████| 1/1 [00:00<00:00,  2.04it/s]\n",
      "100%|██████████| 1/1 [00:00<00:00,  2.18it/s]\n",
      "100%|██████████| 1/1 [00:00<00:00,  2.26it/s]\n",
      "100%|██████████| 1/1 [00:00<00:00,  2.04it/s]\n",
      "100%|██████████| 1/1 [00:00<00:00,  2.45it/s]\n",
      "100%|██████████| 1/1 [00:00<00:00,  2.05it/s]\n",
      "100%|██████████| 1/1 [00:00<00:00,  2.42it/s]\n",
      "100%|██████████| 1/1 [00:00<00:00,  2.29it/s]\n",
      "100%|██████████| 1/1 [00:00<00:00,  2.05it/s]\n",
      "100%|██████████| 1/1 [00:00<00:00,  2.04it/s]\n",
      "100%|██████████| 1/1 [00:00<00:00,  2.04it/s]\n",
      "100%|██████████| 1/1 [00:00<00:00,  2.19it/s]\n",
      "100%|██████████| 1/1 [00:00<00:00,  2.04it/s]\n",
      "100%|██████████| 1/1 [00:00<00:00,  1.98it/s]\n",
      "100%|██████████| 1/1 [00:00<00:00,  2.04it/s]\n"
     ]
    },
    {
     "name": "stdout",
     "output_type": "stream",
     "text": [
      "For epoch 1 the test accuracy over the whole test set is 91 %\n"
     ]
    },
    {
     "name": "stderr",
     "output_type": "stream",
     "text": [
      "100%|██████████| 1/1 [00:00<00:00,  1.02it/s]\n",
      "100%|██████████| 1/1 [00:00<00:00,  1.01it/s]\n",
      "100%|██████████| 1/1 [00:00<00:00,  1.09it/s]\n",
      "100%|██████████| 1/1 [00:00<00:00,  1.08it/s]\n",
      "100%|██████████| 1/1 [00:00<00:00,  1.03it/s]\n",
      "100%|██████████| 1/1 [00:00<00:00,  1.05it/s]\n",
      "100%|██████████| 1/1 [00:00<00:00,  1.09it/s]\n",
      "100%|██████████| 1/1 [00:00<00:00,  1.10it/s]\n",
      "100%|██████████| 1/1 [00:00<00:00,  1.21it/s]\n",
      "100%|██████████| 1/1 [00:00<00:00,  1.09it/s]\n",
      "100%|██████████| 1/1 [00:00<00:00,  1.03it/s]\n",
      "100%|██████████| 1/1 [00:00<00:00,  1.01it/s]\n",
      "100%|██████████| 1/1 [00:00<00:00,  1.03it/s]\n",
      "100%|██████████| 1/1 [00:00<00:00,  1.15it/s]\n",
      "100%|██████████| 1/1 [00:00<00:00,  1.06it/s]\n",
      "100%|██████████| 1/1 [00:01<00:00,  1.26s/it]\n",
      "100%|██████████| 1/1 [00:00<00:00,  2.04it/s]\n",
      "100%|██████████| 1/1 [00:00<00:00,  2.27it/s]\n",
      "100%|██████████| 1/1 [00:00<00:00,  2.21it/s]\n",
      "100%|██████████| 1/1 [00:00<00:00,  2.30it/s]\n",
      "100%|██████████| 1/1 [00:00<00:00,  2.05it/s]\n",
      "100%|██████████| 1/1 [00:00<00:00,  2.35it/s]\n",
      "100%|██████████| 1/1 [00:00<00:00,  2.27it/s]\n",
      "100%|██████████| 1/1 [00:00<00:00,  1.79it/s]\n",
      "100%|██████████| 1/1 [00:00<00:00,  2.04it/s]\n",
      "100%|██████████| 1/1 [00:00<00:00,  2.25it/s]\n",
      "100%|██████████| 1/1 [00:00<00:00,  2.03it/s]\n",
      "100%|██████████| 1/1 [00:00<00:00,  2.05it/s]\n",
      "100%|██████████| 1/1 [00:00<00:00,  2.18it/s]\n",
      "100%|██████████| 1/1 [00:00<00:00,  2.58it/s]\n",
      "100%|██████████| 1/1 [00:00<00:00,  1.95it/s]\n",
      "100%|██████████| 1/1 [00:00<00:00,  1.95it/s]\n"
     ]
    },
    {
     "name": "stdout",
     "output_type": "stream",
     "text": [
      "For epoch 2 the test accuracy over the whole test set is 91 %\n"
     ]
    },
    {
     "name": "stderr",
     "output_type": "stream",
     "text": [
      "100%|██████████| 1/1 [00:00<00:00,  1.09it/s]\n",
      "100%|██████████| 1/1 [00:00<00:00,  1.06it/s]\n",
      "100%|██████████| 1/1 [00:00<00:00,  1.04it/s]\n",
      "100%|██████████| 1/1 [00:00<00:00,  1.00it/s]\n",
      "100%|██████████| 1/1 [00:00<00:00,  1.12it/s]\n",
      "100%|██████████| 1/1 [00:00<00:00,  1.10it/s]\n",
      "100%|██████████| 1/1 [00:00<00:00,  1.11it/s]\n",
      "100%|██████████| 1/1 [00:01<00:00,  1.19s/it]\n",
      "100%|██████████| 1/1 [00:00<00:00,  1.10it/s]\n",
      "100%|██████████| 1/1 [00:00<00:00,  1.09it/s]\n",
      "100%|██████████| 1/1 [00:00<00:00,  1.03it/s]\n",
      "100%|██████████| 1/1 [00:00<00:00,  1.03it/s]\n",
      "100%|██████████| 1/1 [00:00<00:00,  1.13it/s]\n",
      "100%|██████████| 1/1 [00:00<00:00,  1.09it/s]\n",
      "100%|██████████| 1/1 [00:00<00:00,  1.05it/s]\n",
      "100%|██████████| 1/1 [00:00<00:00,  1.12it/s]\n",
      "100%|██████████| 1/1 [00:00<00:00,  2.04it/s]\n",
      "100%|██████████| 1/1 [00:00<00:00,  2.04it/s]\n",
      "100%|██████████| 1/1 [00:00<00:00,  2.18it/s]\n",
      "100%|██████████| 1/1 [00:00<00:00,  2.03it/s]\n",
      "100%|██████████| 1/1 [00:00<00:00,  2.30it/s]\n",
      "100%|██████████| 1/1 [00:00<00:00,  2.04it/s]\n",
      "100%|██████████| 1/1 [00:00<00:00,  2.28it/s]\n",
      "100%|██████████| 1/1 [00:00<00:00,  1.97it/s]\n",
      "100%|██████████| 1/1 [00:00<00:00,  2.04it/s]\n",
      "100%|██████████| 1/1 [00:00<00:00,  2.05it/s]\n",
      "100%|██████████| 1/1 [00:00<00:00,  2.04it/s]\n",
      "100%|██████████| 1/1 [00:00<00:00,  2.06it/s]\n",
      "100%|██████████| 1/1 [00:00<00:00,  2.46it/s]\n",
      "100%|██████████| 1/1 [00:00<00:00,  2.24it/s]\n",
      "100%|██████████| 1/1 [00:00<00:00,  2.25it/s]\n",
      "100%|██████████| 1/1 [00:00<00:00,  2.29it/s]\n"
     ]
    },
    {
     "name": "stdout",
     "output_type": "stream",
     "text": [
      "For epoch 3 the test accuracy over the whole test set is 91 %\n"
     ]
    },
    {
     "name": "stderr",
     "output_type": "stream",
     "text": [
      "100%|██████████| 1/1 [00:00<00:00,  1.06it/s]\n",
      "100%|██████████| 1/1 [00:00<00:00,  1.16it/s]\n",
      "100%|██████████| 1/1 [00:01<00:00,  1.35s/it]\n",
      "100%|██████████| 1/1 [00:00<00:00,  1.10it/s]\n",
      "100%|██████████| 1/1 [00:00<00:00,  1.19it/s]\n",
      "100%|██████████| 1/1 [00:01<00:00,  1.64s/it]\n",
      "100%|██████████| 1/1 [00:00<00:00,  1.07it/s]\n",
      "100%|██████████| 1/1 [00:00<00:00,  1.04it/s]\n",
      "100%|██████████| 1/1 [00:00<00:00,  1.05it/s]\n",
      "100%|██████████| 1/1 [00:00<00:00,  1.15it/s]\n",
      "100%|██████████| 1/1 [00:00<00:00,  1.12it/s]\n",
      "100%|██████████| 1/1 [00:00<00:00,  1.02it/s]\n",
      "100%|██████████| 1/1 [00:00<00:00,  1.11it/s]\n",
      "100%|██████████| 1/1 [00:00<00:00,  1.20it/s]\n",
      "100%|██████████| 1/1 [00:00<00:00,  1.09it/s]\n",
      "100%|██████████| 1/1 [00:00<00:00,  1.16it/s]\n",
      "100%|██████████| 1/1 [00:00<00:00,  2.34it/s]\n",
      "100%|██████████| 1/1 [00:00<00:00,  2.30it/s]\n",
      "100%|██████████| 1/1 [00:00<00:00,  2.50it/s]\n",
      "100%|██████████| 1/1 [00:00<00:00,  2.04it/s]\n",
      "100%|██████████| 1/1 [00:00<00:00,  1.52it/s]\n",
      "100%|██████████| 1/1 [00:00<00:00,  2.32it/s]\n",
      "100%|██████████| 1/1 [00:00<00:00,  2.03it/s]\n",
      "100%|██████████| 1/1 [00:00<00:00,  2.23it/s]\n",
      "100%|██████████| 1/1 [00:00<00:00,  2.28it/s]\n",
      "100%|██████████| 1/1 [00:00<00:00,  2.04it/s]\n",
      "100%|██████████| 1/1 [00:00<00:00,  2.05it/s]\n",
      "100%|██████████| 1/1 [00:00<00:00,  2.06it/s]\n",
      "100%|██████████| 1/1 [00:00<00:00,  1.92it/s]\n",
      "100%|██████████| 1/1 [00:00<00:00,  2.18it/s]\n",
      "100%|██████████| 1/1 [00:00<00:00,  2.03it/s]\n",
      "100%|██████████| 1/1 [00:00<00:00,  2.17it/s]\n"
     ]
    },
    {
     "name": "stdout",
     "output_type": "stream",
     "text": [
      "For epoch 4 the test accuracy over the whole test set is 91 %\n"
     ]
    },
    {
     "name": "stderr",
     "output_type": "stream",
     "text": [
      "100%|██████████| 1/1 [00:00<00:00,  1.04it/s]\n",
      "100%|██████████| 1/1 [00:01<00:00,  1.65s/it]\n",
      "100%|██████████| 1/1 [00:00<00:00,  1.10it/s]\n",
      "100%|██████████| 1/1 [00:00<00:00,  1.14it/s]\n",
      "100%|██████████| 1/1 [00:01<00:00,  1.37s/it]\n",
      "100%|██████████| 1/1 [00:00<00:00,  1.08it/s]\n",
      "100%|██████████| 1/1 [00:00<00:00,  1.11it/s]\n",
      "100%|██████████| 1/1 [00:00<00:00,  1.12it/s]\n",
      "100%|██████████| 1/1 [00:00<00:00,  1.04it/s]\n",
      "100%|██████████| 1/1 [00:00<00:00,  1.03it/s]\n",
      "100%|██████████| 1/1 [00:00<00:00,  1.06it/s]\n",
      "100%|██████████| 1/1 [00:00<00:00,  1.04it/s]\n",
      "100%|██████████| 1/1 [00:00<00:00,  1.04it/s]\n",
      "100%|██████████| 1/1 [00:00<00:00,  1.04it/s]\n",
      "100%|██████████| 1/1 [00:00<00:00,  1.11it/s]\n",
      "100%|██████████| 1/1 [00:00<00:00,  1.09it/s]\n",
      "100%|██████████| 1/1 [00:00<00:00,  2.03it/s]\n",
      "100%|██████████| 1/1 [00:00<00:00,  2.04it/s]\n",
      "100%|██████████| 1/1 [00:00<00:00,  2.17it/s]\n",
      "100%|██████████| 1/1 [00:00<00:00,  2.00it/s]\n",
      "100%|██████████| 1/1 [00:00<00:00,  2.30it/s]\n",
      "100%|██████████| 1/1 [00:00<00:00,  2.00it/s]\n",
      "100%|██████████| 1/1 [00:00<00:00,  2.05it/s]\n",
      "100%|██████████| 1/1 [00:00<00:00,  2.16it/s]\n",
      "100%|██████████| 1/1 [00:00<00:00,  2.26it/s]\n",
      "100%|██████████| 1/1 [00:00<00:00,  2.37it/s]\n",
      "100%|██████████| 1/1 [00:00<00:00,  2.05it/s]\n",
      "100%|██████████| 1/1 [00:00<00:00,  2.06it/s]\n",
      "100%|██████████| 1/1 [00:00<00:00,  2.00it/s]\n",
      "100%|██████████| 1/1 [00:00<00:00,  1.98it/s]\n",
      "100%|██████████| 1/1 [00:00<00:00,  2.23it/s]\n",
      "100%|██████████| 1/1 [00:00<00:00,  2.01it/s]\n"
     ]
    },
    {
     "name": "stdout",
     "output_type": "stream",
     "text": [
      "For epoch 5 the test accuracy over the whole test set is 91 %\n"
     ]
    },
    {
     "name": "stderr",
     "output_type": "stream",
     "text": [
      "100%|██████████| 1/1 [00:00<00:00,  1.02it/s]\n",
      "100%|██████████| 1/1 [00:00<00:00,  1.02it/s]\n",
      "100%|██████████| 1/1 [00:00<00:00,  1.10it/s]\n",
      "100%|██████████| 1/1 [00:01<00:00,  1.31s/it]\n",
      "100%|██████████| 1/1 [00:00<00:00,  1.21it/s]\n",
      "100%|██████████| 1/1 [00:00<00:00,  1.03it/s]\n",
      "100%|██████████| 1/1 [00:00<00:00,  1.16it/s]\n",
      "100%|██████████| 1/1 [00:00<00:00,  1.16it/s]\n",
      "100%|██████████| 1/1 [00:00<00:00,  1.11it/s]\n",
      "100%|██████████| 1/1 [00:00<00:00,  1.02it/s]\n",
      "100%|██████████| 1/1 [00:01<00:00,  1.15s/it]\n",
      "100%|██████████| 1/1 [00:00<00:00,  1.06it/s]\n",
      "100%|██████████| 1/1 [00:00<00:00,  1.15it/s]\n",
      "100%|██████████| 1/1 [00:00<00:00,  1.03it/s]\n",
      "100%|██████████| 1/1 [00:00<00:00,  1.21it/s]\n",
      "100%|██████████| 1/1 [00:00<00:00,  1.14it/s]\n",
      "100%|██████████| 1/1 [00:00<00:00,  2.33it/s]\n",
      "100%|██████████| 1/1 [00:00<00:00,  2.04it/s]\n",
      "100%|██████████| 1/1 [00:00<00:00,  2.41it/s]\n",
      "100%|██████████| 1/1 [00:00<00:00,  2.33it/s]\n",
      "100%|██████████| 1/1 [00:00<00:00,  2.26it/s]\n",
      "100%|██████████| 1/1 [00:00<00:00,  2.04it/s]\n",
      "100%|██████████| 1/1 [00:00<00:00,  2.33it/s]\n",
      "100%|██████████| 1/1 [00:00<00:00,  2.46it/s]\n",
      "100%|██████████| 1/1 [00:00<00:00,  2.32it/s]\n",
      "100%|██████████| 1/1 [00:00<00:00,  2.06it/s]\n",
      "100%|██████████| 1/1 [00:00<00:00,  2.07it/s]\n",
      "100%|██████████| 1/1 [00:00<00:00,  2.07it/s]\n",
      "100%|██████████| 1/1 [00:00<00:00,  2.10it/s]\n",
      "100%|██████████| 1/1 [00:00<00:00,  1.94it/s]\n",
      "100%|██████████| 1/1 [00:00<00:00,  1.94it/s]\n",
      "100%|██████████| 1/1 [00:00<00:00,  2.26it/s]\n"
     ]
    },
    {
     "name": "stdout",
     "output_type": "stream",
     "text": [
      "For epoch 6 the test accuracy over the whole test set is 91 %\n",
      "model on device\n"
     ]
    },
    {
     "name": "stderr",
     "output_type": "stream",
     "text": [
      "100%|██████████| 1/1 [00:00<00:00,  1.11it/s]\n",
      "100%|██████████| 1/1 [00:00<00:00,  1.00it/s]\n",
      "100%|██████████| 1/1 [00:01<00:00,  1.00s/it]\n",
      "100%|██████████| 1/1 [00:00<00:00,  1.01it/s]\n",
      "100%|██████████| 1/1 [00:00<00:00,  1.02it/s]\n",
      "100%|██████████| 1/1 [00:01<00:00,  1.61s/it]\n",
      "100%|██████████| 1/1 [00:00<00:00,  1.08it/s]\n",
      "100%|██████████| 1/1 [00:01<00:00,  1.30s/it]\n",
      "100%|██████████| 1/1 [00:00<00:00,  1.03it/s]\n",
      "100%|██████████| 1/1 [00:00<00:00,  1.02it/s]\n",
      "100%|██████████| 1/1 [00:00<00:00,  1.03it/s]\n",
      "100%|██████████| 1/1 [00:00<00:00,  1.09it/s]\n",
      "100%|██████████| 1/1 [00:00<00:00,  1.03it/s]\n",
      "100%|██████████| 1/1 [00:00<00:00,  1.05it/s]\n",
      "100%|██████████| 1/1 [00:00<00:00,  1.04it/s]\n",
      "100%|██████████| 1/1 [00:00<00:00,  1.01it/s]\n",
      "100%|██████████| 1/1 [00:00<00:00,  2.04it/s]\n",
      "100%|██████████| 1/1 [00:00<00:00,  2.28it/s]\n",
      "100%|██████████| 1/1 [00:00<00:00,  2.40it/s]\n",
      "100%|██████████| 1/1 [00:00<00:00,  2.04it/s]\n",
      "100%|██████████| 1/1 [00:00<00:00,  2.27it/s]\n",
      "100%|██████████| 1/1 [00:00<00:00,  2.04it/s]\n",
      "100%|██████████| 1/1 [00:00<00:00,  2.30it/s]\n",
      "100%|██████████| 1/1 [00:00<00:00,  2.03it/s]\n",
      "100%|██████████| 1/1 [00:00<00:00,  2.05it/s]\n",
      "100%|██████████| 1/1 [00:00<00:00,  2.04it/s]\n",
      "100%|██████████| 1/1 [00:00<00:00,  2.37it/s]\n",
      "100%|██████████| 1/1 [00:00<00:00,  2.03it/s]\n",
      "100%|██████████| 1/1 [00:00<00:00,  1.98it/s]\n",
      "100%|██████████| 1/1 [00:00<00:00,  2.29it/s]\n",
      "100%|██████████| 1/1 [00:00<00:00,  2.03it/s]\n",
      "100%|██████████| 1/1 [00:00<00:00,  2.34it/s]\n"
     ]
    },
    {
     "name": "stdout",
     "output_type": "stream",
     "text": [
      "For epoch 1 the test accuracy over the whole test set is 91 %\n"
     ]
    },
    {
     "name": "stderr",
     "output_type": "stream",
     "text": [
      "100%|██████████| 1/1 [00:00<00:00,  1.13it/s]\n",
      "100%|██████████| 1/1 [00:00<00:00,  1.09it/s]\n",
      "100%|██████████| 1/1 [00:01<00:00,  1.64s/it]\n",
      "100%|██████████| 1/1 [00:00<00:00,  1.06it/s]\n",
      "100%|██████████| 1/1 [00:00<00:00,  1.11it/s]\n",
      "100%|██████████| 1/1 [00:00<00:00,  1.01it/s]\n",
      "100%|██████████| 1/1 [00:00<00:00,  1.11it/s]\n",
      "100%|██████████| 1/1 [00:00<00:00,  1.05it/s]\n",
      "100%|██████████| 1/1 [00:00<00:00,  1.19it/s]\n",
      "100%|██████████| 1/1 [00:00<00:00,  1.04it/s]\n",
      "100%|██████████| 1/1 [00:00<00:00,  1.03it/s]\n",
      "100%|██████████| 1/1 [00:00<00:00,  1.05it/s]\n",
      "100%|██████████| 1/1 [00:00<00:00,  1.10it/s]\n",
      "100%|██████████| 1/1 [00:00<00:00,  1.04it/s]\n",
      "100%|██████████| 1/1 [00:00<00:00,  1.11it/s]\n",
      "100%|██████████| 1/1 [00:00<00:00,  1.11it/s]\n",
      "100%|██████████| 1/1 [00:00<00:00,  2.03it/s]\n",
      "100%|██████████| 1/1 [00:00<00:00,  2.04it/s]\n",
      "100%|██████████| 1/1 [00:00<00:00,  2.31it/s]\n",
      "100%|██████████| 1/1 [00:00<00:00,  2.29it/s]\n",
      "100%|██████████| 1/1 [00:00<00:00,  2.31it/s]\n",
      "100%|██████████| 1/1 [00:00<00:00,  2.05it/s]\n",
      "100%|██████████| 1/1 [00:00<00:00,  2.04it/s]\n",
      "100%|██████████| 1/1 [00:00<00:00,  1.98it/s]\n",
      "100%|██████████| 1/1 [00:00<00:00,  2.05it/s]\n",
      "100%|██████████| 1/1 [00:00<00:00,  2.04it/s]\n",
      "100%|██████████| 1/1 [00:00<00:00,  2.05it/s]\n",
      "100%|██████████| 1/1 [00:00<00:00,  2.06it/s]\n",
      "100%|██████████| 1/1 [00:00<00:00,  2.09it/s]\n",
      "100%|██████████| 1/1 [00:00<00:00,  1.90it/s]\n",
      "100%|██████████| 1/1 [00:00<00:00,  1.92it/s]\n",
      "100%|██████████| 1/1 [00:00<00:00,  2.15it/s]\n"
     ]
    },
    {
     "name": "stdout",
     "output_type": "stream",
     "text": [
      "For epoch 2 the test accuracy over the whole test set is 92 %\n"
     ]
    },
    {
     "name": "stderr",
     "output_type": "stream",
     "text": [
      "100%|██████████| 1/1 [00:00<00:00,  1.16it/s]\n",
      "100%|██████████| 1/1 [00:00<00:00,  1.04it/s]\n",
      "100%|██████████| 1/1 [00:00<00:00,  1.13it/s]\n",
      "100%|██████████| 1/1 [00:01<00:00,  1.24s/it]\n",
      "100%|██████████| 1/1 [00:00<00:00,  1.10it/s]\n",
      "100%|██████████| 1/1 [00:00<00:00,  1.04it/s]\n",
      "100%|██████████| 1/1 [00:00<00:00,  1.09it/s]\n",
      "100%|██████████| 1/1 [00:00<00:00,  1.12it/s]\n",
      "100%|██████████| 1/1 [00:00<00:00,  1.06it/s]\n",
      "100%|██████████| 1/1 [00:00<00:00,  1.05it/s]\n",
      "100%|██████████| 1/1 [00:00<00:00,  1.07it/s]\n",
      "100%|██████████| 1/1 [00:00<00:00,  1.03it/s]\n",
      "100%|██████████| 1/1 [00:00<00:00,  1.08it/s]\n",
      "100%|██████████| 1/1 [00:00<00:00,  1.01it/s]\n",
      "100%|██████████| 1/1 [00:00<00:00,  1.03it/s]\n",
      "100%|██████████| 1/1 [00:00<00:00,  1.12it/s]\n",
      "100%|██████████| 1/1 [00:00<00:00,  2.05it/s]\n",
      "100%|██████████| 1/1 [00:00<00:00,  2.29it/s]\n",
      "100%|██████████| 1/1 [00:00<00:00,  2.32it/s]\n",
      "100%|██████████| 1/1 [00:00<00:00,  2.03it/s]\n",
      "100%|██████████| 1/1 [00:00<00:00,  2.04it/s]\n",
      "100%|██████████| 1/1 [00:00<00:00,  2.04it/s]\n",
      "100%|██████████| 1/1 [00:00<00:00,  2.05it/s]\n",
      "100%|██████████| 1/1 [00:00<00:00,  2.09it/s]\n",
      "100%|██████████| 1/1 [00:00<00:00,  2.04it/s]\n",
      "100%|██████████| 1/1 [00:00<00:00,  2.04it/s]\n",
      "100%|██████████| 1/1 [00:00<00:00,  2.04it/s]\n",
      "100%|██████████| 1/1 [00:00<00:00,  2.05it/s]\n",
      "100%|██████████| 1/1 [00:00<00:00,  1.94it/s]\n",
      "100%|██████████| 1/1 [00:00<00:00,  2.01it/s]\n",
      "100%|██████████| 1/1 [00:00<00:00,  2.01it/s]\n",
      "100%|██████████| 1/1 [00:00<00:00,  2.27it/s]\n"
     ]
    },
    {
     "name": "stdout",
     "output_type": "stream",
     "text": [
      "For epoch 3 the test accuracy over the whole test set is 90 %\n"
     ]
    },
    {
     "name": "stderr",
     "output_type": "stream",
     "text": [
      "100%|██████████| 1/1 [00:00<00:00,  1.18it/s]\n",
      "100%|██████████| 1/1 [00:00<00:00,  1.11it/s]\n",
      "100%|██████████| 1/1 [00:00<00:00,  1.11it/s]\n",
      "100%|██████████| 1/1 [00:01<00:00,  1.23s/it]\n",
      "100%|██████████| 1/1 [00:00<00:00,  1.03it/s]\n",
      "100%|██████████| 1/1 [00:00<00:00,  1.01it/s]\n",
      "100%|██████████| 1/1 [00:01<00:00,  1.62s/it]\n",
      "100%|██████████| 1/1 [00:00<00:00,  1.11it/s]\n",
      "100%|██████████| 1/1 [00:00<00:00,  1.09it/s]\n",
      "100%|██████████| 1/1 [00:00<00:00,  1.04it/s]\n",
      "100%|██████████| 1/1 [00:00<00:00,  1.03it/s]\n",
      "100%|██████████| 1/1 [00:00<00:00,  1.06it/s]\n",
      "100%|██████████| 1/1 [00:01<00:00,  1.22s/it]\n",
      "100%|██████████| 1/1 [00:00<00:00,  1.13it/s]\n",
      "100%|██████████| 1/1 [00:00<00:00,  1.14it/s]\n",
      "100%|██████████| 1/1 [00:01<00:00,  1.37s/it]\n",
      "100%|██████████| 1/1 [00:00<00:00,  2.27it/s]\n",
      "100%|██████████| 1/1 [00:00<00:00,  2.04it/s]\n",
      "100%|██████████| 1/1 [00:00<00:00,  2.18it/s]\n",
      "100%|██████████| 1/1 [00:00<00:00,  2.30it/s]\n",
      "100%|██████████| 1/1 [00:00<00:00,  2.29it/s]\n",
      "100%|██████████| 1/1 [00:00<00:00,  2.05it/s]\n",
      "100%|██████████| 1/1 [00:00<00:00,  2.05it/s]\n",
      "100%|██████████| 1/1 [00:00<00:00,  2.00it/s]\n",
      "100%|██████████| 1/1 [00:00<00:00,  2.33it/s]\n",
      "100%|██████████| 1/1 [00:00<00:00,  2.06it/s]\n",
      "100%|██████████| 1/1 [00:00<00:00,  2.57it/s]\n",
      "100%|██████████| 1/1 [00:00<00:00,  2.35it/s]\n",
      "100%|██████████| 1/1 [00:00<00:00,  2.13it/s]\n",
      "100%|██████████| 1/1 [00:00<00:00,  1.93it/s]\n",
      "100%|██████████| 1/1 [00:00<00:00,  1.92it/s]\n",
      "100%|██████████| 1/1 [00:00<00:00,  1.91it/s]\n"
     ]
    },
    {
     "name": "stdout",
     "output_type": "stream",
     "text": [
      "For epoch 4 the test accuracy over the whole test set is 92 %\n"
     ]
    },
    {
     "name": "stderr",
     "output_type": "stream",
     "text": [
      "100%|██████████| 1/1 [00:00<00:00,  1.06it/s]\n",
      "100%|██████████| 1/1 [00:00<00:00,  1.02it/s]\n",
      "100%|██████████| 1/1 [00:00<00:00,  1.02it/s]\n",
      "100%|██████████| 1/1 [00:00<00:00,  1.01it/s]\n",
      "100%|██████████| 1/1 [00:00<00:00,  1.11it/s]\n",
      "100%|██████████| 1/1 [00:00<00:00,  1.03it/s]\n",
      "100%|██████████| 1/1 [00:00<00:00,  1.12it/s]\n",
      "100%|██████████| 1/1 [00:00<00:00,  1.06it/s]\n",
      "100%|██████████| 1/1 [00:00<00:00,  1.16it/s]\n",
      "100%|██████████| 1/1 [00:00<00:00,  1.01it/s]\n",
      "100%|██████████| 1/1 [00:00<00:00,  1.11it/s]\n",
      "100%|██████████| 1/1 [00:00<00:00,  1.04it/s]\n",
      "100%|██████████| 1/1 [00:00<00:00,  1.21it/s]\n",
      "100%|██████████| 1/1 [00:00<00:00,  1.01it/s]\n",
      "100%|██████████| 1/1 [00:00<00:00,  1.04it/s]\n",
      "100%|██████████| 1/1 [00:01<00:00,  1.30s/it]\n",
      "100%|██████████| 1/1 [00:00<00:00,  2.30it/s]\n",
      "100%|██████████| 1/1 [00:00<00:00,  2.04it/s]\n",
      "100%|██████████| 1/1 [00:00<00:00,  2.29it/s]\n",
      "100%|██████████| 1/1 [00:00<00:00,  1.85it/s]\n",
      "100%|██████████| 1/1 [00:00<00:00,  2.04it/s]\n",
      "100%|██████████| 1/1 [00:00<00:00,  2.04it/s]\n",
      "100%|██████████| 1/1 [00:00<00:00,  2.04it/s]\n",
      "100%|██████████| 1/1 [00:00<00:00,  2.25it/s]\n",
      "100%|██████████| 1/1 [00:00<00:00,  2.05it/s]\n",
      "100%|██████████| 1/1 [00:00<00:00,  2.06it/s]\n",
      "100%|██████████| 1/1 [00:00<00:00,  2.31it/s]\n",
      "100%|██████████| 1/1 [00:00<00:00,  2.05it/s]\n",
      "100%|██████████| 1/1 [00:00<00:00,  2.00it/s]\n",
      "100%|██████████| 1/1 [00:00<00:00,  2.00it/s]\n",
      "100%|██████████| 1/1 [00:00<00:00,  2.00it/s]\n",
      "100%|██████████| 1/1 [00:00<00:00,  2.00it/s]\n"
     ]
    },
    {
     "name": "stdout",
     "output_type": "stream",
     "text": [
      "For epoch 5 the test accuracy over the whole test set is 92 %\n"
     ]
    },
    {
     "name": "stderr",
     "output_type": "stream",
     "text": [
      "100%|██████████| 1/1 [00:00<00:00,  1.03it/s]\n",
      "100%|██████████| 1/1 [00:00<00:00,  1.01it/s]\n",
      "100%|██████████| 1/1 [00:00<00:00,  1.10it/s]\n",
      "100%|██████████| 1/1 [00:00<00:00,  1.01it/s]\n",
      "100%|██████████| 1/1 [00:00<00:00,  1.04it/s]\n",
      "100%|██████████| 1/1 [00:00<00:00,  1.13it/s]\n",
      "100%|██████████| 1/1 [00:00<00:00,  1.03it/s]\n",
      "100%|██████████| 1/1 [00:00<00:00,  1.02it/s]\n",
      "100%|██████████| 1/1 [00:00<00:00,  1.21it/s]\n",
      "100%|██████████| 1/1 [00:00<00:00,  1.09it/s]\n",
      "100%|██████████| 1/1 [00:00<00:00,  1.12it/s]\n",
      "100%|██████████| 1/1 [00:01<00:00,  1.31s/it]\n",
      "100%|██████████| 1/1 [00:00<00:00,  1.04it/s]\n",
      "100%|██████████| 1/1 [00:00<00:00,  1.10it/s]\n",
      "100%|██████████| 1/1 [00:00<00:00,  1.12it/s]\n",
      "100%|██████████| 1/1 [00:00<00:00,  1.11it/s]\n",
      "100%|██████████| 1/1 [00:00<00:00,  2.06it/s]\n",
      "100%|██████████| 1/1 [00:00<00:00,  2.29it/s]\n",
      "100%|██████████| 1/1 [00:00<00:00,  2.20it/s]\n",
      "100%|██████████| 1/1 [00:00<00:00,  2.31it/s]\n",
      "100%|██████████| 1/1 [00:00<00:00,  1.95it/s]\n",
      "100%|██████████| 1/1 [00:00<00:00,  2.29it/s]\n",
      "100%|██████████| 1/1 [00:00<00:00,  2.05it/s]\n",
      "100%|██████████| 1/1 [00:00<00:00,  2.27it/s]\n",
      "100%|██████████| 1/1 [00:00<00:00,  2.04it/s]\n",
      "100%|██████████| 1/1 [00:00<00:00,  2.13it/s]\n",
      "100%|██████████| 1/1 [00:00<00:00,  2.22it/s]\n",
      "100%|██████████| 1/1 [00:00<00:00,  2.13it/s]\n",
      "100%|██████████| 1/1 [00:00<00:00,  2.10it/s]\n",
      "100%|██████████| 1/1 [00:00<00:00,  1.92it/s]\n",
      "100%|██████████| 1/1 [00:00<00:00,  1.91it/s]\n",
      "100%|██████████| 1/1 [00:00<00:00,  2.12it/s]\n"
     ]
    },
    {
     "name": "stdout",
     "output_type": "stream",
     "text": [
      "For epoch 6 the test accuracy over the whole test set is 91 %\n"
     ]
    },
    {
     "name": "stderr",
     "output_type": "stream",
     "text": [
      "100%|██████████| 1/1 [00:00<00:00,  1.08it/s]\n",
      "100%|██████████| 1/1 [00:01<00:00,  1.66s/it]\n",
      "100%|██████████| 1/1 [00:00<00:00,  1.02it/s]\n",
      "100%|██████████| 1/1 [00:01<00:00,  1.30s/it]\n",
      "100%|██████████| 1/1 [00:00<00:00,  1.13it/s]\n",
      "100%|██████████| 1/1 [00:00<00:00,  1.03it/s]\n",
      "100%|██████████| 1/1 [00:00<00:00,  1.03it/s]\n",
      "100%|██████████| 1/1 [00:01<00:00,  1.21s/it]\n",
      "100%|██████████| 1/1 [00:00<00:00,  1.12it/s]\n",
      "100%|██████████| 1/1 [00:00<00:00,  1.08it/s]\n",
      "100%|██████████| 1/1 [00:00<00:00,  1.03it/s]\n",
      "100%|██████████| 1/1 [00:00<00:00,  1.03it/s]\n",
      "100%|██████████| 1/1 [00:00<00:00,  1.04it/s]\n",
      "100%|██████████| 1/1 [00:01<00:00,  1.24s/it]\n",
      "100%|██████████| 1/1 [00:00<00:00,  1.18it/s]\n",
      "100%|██████████| 1/1 [00:01<00:00,  1.23s/it]\n",
      "100%|██████████| 1/1 [00:00<00:00,  2.04it/s]\n",
      "100%|██████████| 1/1 [00:00<00:00,  2.26it/s]\n",
      "100%|██████████| 1/1 [00:00<00:00,  1.97it/s]\n",
      "100%|██████████| 1/1 [00:00<00:00,  2.29it/s]\n",
      "100%|██████████| 1/1 [00:00<00:00,  2.35it/s]\n",
      "100%|██████████| 1/1 [00:00<00:00,  2.29it/s]\n",
      "100%|██████████| 1/1 [00:00<00:00,  2.31it/s]\n",
      "100%|██████████| 1/1 [00:00<00:00,  1.50it/s]\n",
      "100%|██████████| 1/1 [00:00<00:00,  2.32it/s]\n",
      "100%|██████████| 1/1 [00:00<00:00,  2.07it/s]\n",
      "100%|██████████| 1/1 [00:00<00:00,  2.28it/s]\n",
      "100%|██████████| 1/1 [00:00<00:00,  2.07it/s]\n",
      "100%|██████████| 1/1 [00:00<00:00,  1.97it/s]\n",
      "100%|██████████| 1/1 [00:00<00:00,  1.97it/s]\n",
      "100%|██████████| 1/1 [00:00<00:00,  1.98it/s]\n",
      "100%|██████████| 1/1 [00:00<00:00,  2.22it/s]\n"
     ]
    },
    {
     "name": "stdout",
     "output_type": "stream",
     "text": [
      "For epoch 7 the test accuracy over the whole test set is 91 %\n"
     ]
    },
    {
     "name": "stderr",
     "output_type": "stream",
     "text": [
      "100%|██████████| 1/1 [00:00<00:00,  1.11it/s]\n",
      "100%|██████████| 1/1 [00:00<00:00,  1.07it/s]\n",
      "100%|██████████| 1/1 [00:00<00:00,  1.20it/s]\n",
      "100%|██████████| 1/1 [00:00<00:00,  1.03it/s]\n",
      "100%|██████████| 1/1 [00:00<00:00,  1.12it/s]\n",
      "100%|██████████| 1/1 [00:01<00:00,  1.29s/it]\n",
      "100%|██████████| 1/1 [00:00<00:00,  1.20it/s]\n",
      "100%|██████████| 1/1 [00:00<00:00,  1.01it/s]\n",
      "100%|██████████| 1/1 [00:00<00:00,  1.09it/s]\n",
      "100%|██████████| 1/1 [00:00<00:00,  1.09it/s]\n",
      "100%|██████████| 1/1 [00:00<00:00,  1.02it/s]\n",
      "100%|██████████| 1/1 [00:00<00:00,  1.12it/s]\n",
      "100%|██████████| 1/1 [00:00<00:00,  1.19it/s]\n",
      "100%|██████████| 1/1 [00:01<00:00,  1.24s/it]\n",
      "100%|██████████| 1/1 [00:00<00:00,  1.11it/s]\n",
      "100%|██████████| 1/1 [00:01<00:00,  1.41s/it]\n",
      "100%|██████████| 1/1 [00:00<00:00,  2.05it/s]\n",
      "100%|██████████| 1/1 [00:00<00:00,  2.05it/s]\n",
      "100%|██████████| 1/1 [00:00<00:00,  2.37it/s]\n",
      "100%|██████████| 1/1 [00:00<00:00,  2.04it/s]\n",
      "100%|██████████| 1/1 [00:00<00:00,  2.05it/s]\n",
      "100%|██████████| 1/1 [00:00<00:00,  2.05it/s]\n",
      "100%|██████████| 1/1 [00:00<00:00,  2.31it/s]\n",
      "100%|██████████| 1/1 [00:00<00:00,  2.22it/s]\n",
      "100%|██████████| 1/1 [00:00<00:00,  2.05it/s]\n",
      "100%|██████████| 1/1 [00:00<00:00,  2.30it/s]\n",
      "100%|██████████| 1/1 [00:00<00:00,  2.06it/s]\n",
      "100%|██████████| 1/1 [00:00<00:00,  2.33it/s]\n",
      "100%|██████████| 1/1 [00:00<00:00,  2.18it/s]\n",
      "100%|██████████| 1/1 [00:00<00:00,  1.88it/s]\n",
      "100%|██████████| 1/1 [00:00<00:00,  1.79it/s]\n",
      "100%|██████████| 1/1 [00:00<00:00,  2.12it/s]\n"
     ]
    },
    {
     "name": "stdout",
     "output_type": "stream",
     "text": [
      "For epoch 8 the test accuracy over the whole test set is 91 %\n",
      "Finished Training\n"
     ]
    }
   ],
   "source": [
    "#torch.set_grad_enabled(True)\n",
    "from torch.optim import lr_scheduler, Adam\n",
    "\n",
    "optimizer = Adam(model.parameters(), lr=0.001)#, weight_decay=0.00002) \n",
    "loss_fn = nn.CrossEntropyLoss()\n",
    "criterion = nn.CrossEntropyLoss()\n",
    "\n",
    "# Let's build our model\n",
    "train(6, 0.005, model)\n",
    "model.fc = nn.Linear(2048, 104)\n",
    "train(6, 0.001, model)\n",
    "model.fc = nn.Linear(2048, 104)\n",
    "train(8, 0.0002, model)\n",
    "\n",
    "print('Finished Training')"
   ]
  },
  {
   "cell_type": "code",
   "execution_count": 23,
   "id": "645eaea3",
   "metadata": {
    "execution": {
     "iopub.execute_input": "2023-10-13T14:16:46.765406Z",
     "iopub.status.busy": "2023-10-13T14:16:46.765049Z",
     "iopub.status.idle": "2023-10-13T14:17:07.220159Z",
     "shell.execute_reply": "2023-10-13T14:17:07.218943Z"
    },
    "papermill": {
     "duration": 20.57008,
     "end_time": "2023-10-13T14:17:07.222057",
     "exception": false,
     "start_time": "2023-10-13T14:16:46.651977",
     "status": "completed"
    },
    "tags": []
   },
   "outputs": [
    {
     "name": "stderr",
     "output_type": "stream",
     "text": [
      "100%|██████████| 1/1 [00:00<00:00,  1.98it/s]\n",
      "100%|██████████| 1/1 [00:00<00:00,  1.90it/s]\n",
      "100%|██████████| 1/1 [00:00<00:00,  2.49it/s]\n",
      "100%|██████████| 1/1 [00:00<00:00,  1.89it/s]\n"
     ]
    },
    {
     "data": {
      "text/plain": [
       "91.97019867549669"
      ]
     },
     "execution_count": 23,
     "metadata": {},
     "output_type": "execute_result"
    }
   ],
   "source": [
    "# Test which classes performed well\n",
    "testAccuracy()\n",
    "# Function to test what classes performed well\n",
    "#testClasses(classes=classes)"
   ]
  },
  {
   "cell_type": "code",
   "execution_count": 24,
   "id": "3b8b19b7",
   "metadata": {
    "execution": {
     "iopub.execute_input": "2023-10-13T14:17:07.445188Z",
     "iopub.status.busy": "2023-10-13T14:17:07.444507Z",
     "iopub.status.idle": "2023-10-13T14:17:07.452332Z",
     "shell.execute_reply": "2023-10-13T14:17:07.451426Z"
    },
    "papermill": {
     "duration": 0.120943,
     "end_time": "2023-10-13T14:17:07.454005",
     "exception": false,
     "start_time": "2023-10-13T14:17:07.333062",
     "status": "completed"
    },
    "tags": []
   },
   "outputs": [],
   "source": [
    "def make_submission(model, test_loader, cuda=True):\n",
    "\n",
    "    results=[]\n",
    "    for batch, _, ids in tqdm(test_loader):\n",
    "        with torch.no_grad():\n",
    "            batch = batch.cuda()\n",
    "            model.eval()\n",
    "            out = model(batch)\n",
    "            pred_labels = torch.argmax(out.data.cpu(), dim=1)\n",
    "            rows = list(\n",
    "                zip(\n",
    "                    list(ids), list(pred_labels.numpy().tolist())\n",
    "                )\n",
    "            )\n",
    "            results.append(pd.DataFrame(rows, columns=['id', 'label']))\n",
    "    result_df = pd.concat(results)\n",
    "    result_df['label'] = result_df['label'].astype(int)\n",
    "    return result_df\n"
   ]
  },
  {
   "cell_type": "code",
   "execution_count": 25,
   "id": "883dfaf0",
   "metadata": {
    "execution": {
     "iopub.execute_input": "2023-10-13T14:17:07.677169Z",
     "iopub.status.busy": "2023-10-13T14:17:07.676285Z",
     "iopub.status.idle": "2023-10-13T14:18:35.057127Z",
     "shell.execute_reply": "2023-10-13T14:18:35.055603Z"
    },
    "papermill": {
     "duration": 87.494597,
     "end_time": "2023-10-13T14:18:35.059531",
     "exception": false,
     "start_time": "2023-10-13T14:17:07.564934",
     "status": "completed"
    },
    "tags": []
   },
   "outputs": [
    {
     "name": "stderr",
     "output_type": "stream",
     "text": [
      "100%|██████████| 462/462 [01:27<00:00,  5.29it/s]\n"
     ]
    }
   ],
   "source": [
    "submission = make_submission(model, test_loader)"
   ]
  },
  {
   "cell_type": "code",
   "execution_count": 26,
   "id": "1f6eb24f",
   "metadata": {
    "execution": {
     "iopub.execute_input": "2023-10-13T14:18:35.393641Z",
     "iopub.status.busy": "2023-10-13T14:18:35.392942Z",
     "iopub.status.idle": "2023-10-13T14:18:35.413369Z",
     "shell.execute_reply": "2023-10-13T14:18:35.412466Z"
    },
    "papermill": {
     "duration": 0.154608,
     "end_time": "2023-10-13T14:18:35.415257",
     "exception": false,
     "start_time": "2023-10-13T14:18:35.260649",
     "status": "completed"
    },
    "tags": []
   },
   "outputs": [],
   "source": [
    "submission.to_csv('submission.csv', index=False)"
   ]
  },
  {
   "cell_type": "code",
   "execution_count": 27,
   "id": "0ca5a150",
   "metadata": {
    "execution": {
     "iopub.execute_input": "2023-10-13T14:18:35.685928Z",
     "iopub.status.busy": "2023-10-13T14:18:35.685545Z",
     "iopub.status.idle": "2023-10-13T14:18:35.929505Z",
     "shell.execute_reply": "2023-10-13T14:18:35.928527Z"
    },
    "papermill": {
     "duration": 0.385697,
     "end_time": "2023-10-13T14:18:35.931484",
     "exception": false,
     "start_time": "2023-10-13T14:18:35.545787",
     "status": "completed"
    },
    "tags": []
   },
   "outputs": [
    {
     "name": "stdout",
     "output_type": "stream",
     "text": [
      "model saved\n"
     ]
    }
   ],
   "source": [
    "# Let's load the model we just created and test the accuracy per label\n",
    "from datetime import datetime\n",
    "torch.save(model,'CV_petaltometal_model_{}'.format(datetime.now().strftime('%Y%m%d%H%M')))\n",
    "print('model saved')"
   ]
  }
 ],
 "metadata": {
  "kernelspec": {
   "display_name": "Python 3",
   "language": "python",
   "name": "python3"
  },
  "language_info": {
   "codemirror_mode": {
    "name": "ipython",
    "version": 3
   },
   "file_extension": ".py",
   "mimetype": "text/x-python",
   "name": "python",
   "nbconvert_exporter": "python",
   "pygments_lexer": "ipython3",
   "version": "3.10.12"
  },
  "papermill": {
   "default_parameters": {},
   "duration": 9014.307867,
   "end_time": "2023-10-13T14:18:39.903084",
   "environment_variables": {},
   "exception": null,
   "input_path": "__notebook__.ipynb",
   "output_path": "__notebook__.ipynb",
   "parameters": {},
   "start_time": "2023-10-13T11:48:25.595217",
   "version": "2.4.0"
  }
 },
 "nbformat": 4,
 "nbformat_minor": 5
}
